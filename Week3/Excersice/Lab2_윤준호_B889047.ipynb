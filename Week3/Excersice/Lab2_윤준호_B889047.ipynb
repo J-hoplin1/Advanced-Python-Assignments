{
 "cells": [
  {
   "cell_type": "markdown",
   "id": "e122d951",
   "metadata": {},
   "source": [
    "# Lab \\#2\n",
    "***\n",
    "- 작성자 : B889047 윤준호\n",
    "- 작성일 : 2022 / 09 / 27\n",
    "***\n",
    "\n",
    "## Q0 :  'FunModules' 슬라이드의 마지막 부분에 (p98 ~ p104) 나오는 None 에 대한 각 용법을 본인의 예제를 만들어 실행."
   ]
  },
  {
   "cell_type": "code",
   "execution_count": 1,
   "id": "d7371bfe",
   "metadata": {},
   "outputs": [],
   "source": [
    "from typing import Any"
   ]
  },
  {
   "cell_type": "code",
   "execution_count": 2,
   "id": "2273ccd7",
   "metadata": {},
   "outputs": [],
   "source": [
    "class equilateralTriangle(object):\n",
    "    def __init__(self,x:int = None,y:int = None,z:int = None) -> None:\n",
    "        if not ((x == y) and (y == z) and (x == z)):\n",
    "            x = y = z = None\n",
    "        self.x = 10 if x is None else x\n",
    "        self.y = 10 if y is None else y\n",
    "        self.z = 10 if z is None else z\n",
    "    \n",
    "    def getSomeValues(self,option:str = None) -> int:\n",
    "        # option이 None이면 예외 발생\n",
    "        if option == None:\n",
    "            raise Exception(\"Bad argument\")\n",
    "        if option == \"oneSideLength\":\n",
    "            return self.x\n",
    "        elif option == \"totalLength\":\n",
    "            return self.x + self.y + self.z"
   ]
  },
  {
   "cell_type": "code",
   "execution_count": 3,
   "id": "1a5fe47c",
   "metadata": {},
   "outputs": [
    {
     "ename": "Exception",
     "evalue": "Bad argument",
     "output_type": "error",
     "traceback": [
      "\u001b[0;31m---------------------------------------------------------------------------\u001b[0m",
      "\u001b[0;31mException\u001b[0m                                 Traceback (most recent call last)",
      "Input \u001b[0;32mIn [3]\u001b[0m, in \u001b[0;36m<cell line: 3>\u001b[0;34m()\u001b[0m\n\u001b[1;32m      1\u001b[0m t \u001b[38;5;241m=\u001b[39m equilateralTriangle()\n\u001b[1;32m      2\u001b[0m t\u001b[38;5;241m.\u001b[39mgetSomeValues(\u001b[38;5;124m\"\u001b[39m\u001b[38;5;124moneSideLength\u001b[39m\u001b[38;5;124m\"\u001b[39m)\n\u001b[0;32m----> 3\u001b[0m \u001b[43mt\u001b[49m\u001b[38;5;241;43m.\u001b[39;49m\u001b[43mgetSomeValues\u001b[49m\u001b[43m(\u001b[49m\u001b[43m)\u001b[49m\n",
      "Input \u001b[0;32mIn [2]\u001b[0m, in \u001b[0;36mequilateralTriangle.getSomeValues\u001b[0;34m(self, option)\u001b[0m\n\u001b[1;32m      9\u001b[0m \u001b[38;5;28;01mdef\u001b[39;00m \u001b[38;5;21mgetSomeValues\u001b[39m(\u001b[38;5;28mself\u001b[39m,option:\u001b[38;5;28mstr\u001b[39m \u001b[38;5;241m=\u001b[39m \u001b[38;5;28;01mNone\u001b[39;00m) \u001b[38;5;241m-\u001b[39m\u001b[38;5;241m>\u001b[39m \u001b[38;5;28mint\u001b[39m:\n\u001b[1;32m     10\u001b[0m     \u001b[38;5;66;03m# option이 None이면 예외 발생\u001b[39;00m\n\u001b[1;32m     11\u001b[0m     \u001b[38;5;28;01mif\u001b[39;00m option \u001b[38;5;241m==\u001b[39m \u001b[38;5;28;01mNone\u001b[39;00m:\n\u001b[0;32m---> 12\u001b[0m         \u001b[38;5;28;01mraise\u001b[39;00m \u001b[38;5;167;01mException\u001b[39;00m(\u001b[38;5;124m\"\u001b[39m\u001b[38;5;124mBad argument\u001b[39m\u001b[38;5;124m\"\u001b[39m)\n\u001b[1;32m     13\u001b[0m     \u001b[38;5;28;01mif\u001b[39;00m option \u001b[38;5;241m==\u001b[39m \u001b[38;5;124m\"\u001b[39m\u001b[38;5;124moneSideLength\u001b[39m\u001b[38;5;124m\"\u001b[39m:\n\u001b[1;32m     14\u001b[0m         \u001b[38;5;28;01mreturn\u001b[39;00m \u001b[38;5;28mself\u001b[39m\u001b[38;5;241m.\u001b[39mx\n",
      "\u001b[0;31mException\u001b[0m: Bad argument"
     ]
    }
   ],
   "source": [
    "t = equilateralTriangle()\n",
    "t.getSomeValues(\"oneSideLength\")\n",
    "t.getSomeValues()"
   ]
  },
  {
   "cell_type": "markdown",
   "id": "d28d1ab3",
   "metadata": {},
   "source": [
    "## Q1 : Objects' 슬라이드에서 다음 내용을 Python Tutor 사용하여 이해하고 중요 내용을 캡쳐 제출. Q1; Q2; 슬라이드 25 메소드 실습 (Point3 과 Rectangle 객체 실습); 슬라이드 30 예제 만들어 실습 가능하면 본인의 새로운 객체를 만들어 실습\n",
    "<br>\n",
    "<br>\n",
    "\n",
    "### Q1-1 : Attribute Assignment"
   ]
  },
  {
   "cell_type": "code",
   "execution_count": null,
   "id": "686f7409",
   "metadata": {},
   "outputs": [],
   "source": [
    "class Point3(object):\n",
    "    def __init__(self,x:int = 0,y:int = 0,z:int = 0) -> None:\n",
    "        self.points = {\n",
    "            \"x\" : x,\n",
    "            \"y\" : y,\n",
    "            \"z\" : z\n",
    "        }\n",
    "        \n",
    "    def checkPointExist(self,*args) -> bool:\n",
    "        keys = self.points.keys()\n",
    "        for i in args:\n",
    "            if i not in keys:\n",
    "                return False\n",
    "        return True\n",
    "    \n",
    "    def getPoint(self,point:str) -> int:\n",
    "        if not self.checkPointExist(point):\n",
    "            raise Exception(\"Point not exist\")\n",
    "        return self.points[point]\n",
    "    \n",
    "    def setPoint(self,point:str,value:int) -> None:\n",
    "        if not self.checkPointExist(point):\n",
    "            raise Exception(\"Point not exist\")\n",
    "        self.points[point] = value\n",
    "    \n",
    "    def swapPoint(self,p1:str,p2:str) -> None:\n",
    "        keys = self.points.keys()\n",
    "        if not self.checkPointExist(p1,p2):\n",
    "            raise Exception(\"Point not exist\")\n",
    "        self.points[p1],self.points[p2] = self.points[p2],self.points[p1]\n",
    "    \n",
    "    def changePointValue(self,point:str,value:int = 1) -> None:\n",
    "        if not self.checkPointExist(point):\n",
    "            raise Exception(\"Point not exist\")\n",
    "        self.points[point] = self.points[point] + value\n",
    "    \n",
    "    def printPointInformation(self) -> None:\n",
    "        state = f\"\"\"\n",
    "        \n",
    "        point x : {self.points[\"x\"]}\n",
    "        point y : {self.points[\"y\"]}\n",
    "        point z : {self.points[\"z\"]}\n",
    "        \"\"\"\n",
    "        print(state)"
   ]
  },
  {
   "cell_type": "code",
   "execution_count": null,
   "id": "cf248296",
   "metadata": {},
   "outputs": [],
   "source": [
    "p = Point3()\n",
    "q = p\n",
    "\n",
    "p.setPoint('x',10)\n",
    "p.setPoint('z',7)\n",
    "\n",
    "print(q.getPoint('x'))\n",
    "print(q.getPoint('y'))\n",
    "print(q.getPoint('z'))"
   ]
  },
  {
   "cell_type": "markdown",
   "id": "a292cf97",
   "metadata": {},
   "source": [
    "<img src=\"img/q1_1.png\" width=\"600px\" height=\"500px\"/>"
   ]
  },
  {
   "cell_type": "markdown",
   "id": "bfc93fe2",
   "metadata": {},
   "source": [
    "-  point의 값을 변경시키는 메소드는 아래와 같이 정의\n",
    "\n",
    "```python\n",
    " def changePointValue(self,point:str,value:int = 1) -> None:\n",
    "        if not self.checkPointExist(point):\n",
    "            raise Exception(\"Point not exist\")\n",
    "        self.points[point] = self.points[point] + value\n",
    "```"
   ]
  },
  {
   "cell_type": "code",
   "execution_count": null,
   "id": "9edc073f",
   "metadata": {},
   "outputs": [],
   "source": [
    "r = Point3()\n",
    "\n",
    "r.changePointValue(\"x\",5)\n",
    "r.changePointValue(\"y\",20)"
   ]
  },
  {
   "cell_type": "markdown",
   "id": "6b6991a8",
   "metadata": {},
   "source": [
    "<img src=\"img/q1_2.png\" width=\"600px\" height=\"500px\"/>"
   ]
  },
  {
   "cell_type": "markdown",
   "id": "20e7f7fb",
   "metadata": {},
   "source": [
    "### Q1-2 : Swap\n",
    "\n",
    "- Swap과 관련된 메소드는 아래와 같이 정의\n",
    "\n",
    "```python\n",
    "def swapPoint(self,p1,p2) -> None:\n",
    "        keys = self.points.keys()\n",
    "        if not self.checkPointExist(p1,p2):\n",
    "            raise Exception(\"Point not exist\")\n",
    "        self.points[p1],self.points[p2] = self.points[p2],self.points[p1]\n",
    "```"
   ]
  },
  {
   "cell_type": "code",
   "execution_count": null,
   "id": "e7f1501a",
   "metadata": {},
   "outputs": [],
   "source": [
    "e = Point3(x = 9, z = 8)\n",
    "w = Point3(x = 11, z = 20)\n",
    "\n",
    "print(f\"e's point x : {e.getPoint('x')}\")\n",
    "print(f\"w's point x : {w.getPoint('x')}\")\n",
    "print('-' * 30)\n",
    "\n",
    "# Swap\n",
    "\n",
    "def swap(point:str,p1:Point3,p2:Point3):\n",
    "    t = p1.getPoint(point)\n",
    "    p1.setPoint(point,p2.getPoint(point))\n",
    "    p2.setPoint(point,t)\n",
    "    \n",
    "swap('x',e,w)\n",
    "\n",
    "print(f\"e's point x : {e.getPoint('x')}\")\n",
    "print(f\"w's point x : {w.getPoint('x')}\")"
   ]
  },
  {
   "cell_type": "markdown",
   "id": "03892790",
   "metadata": {},
   "source": [
    "<img src=\"img/q1_2_1.png\" width=\"600px\" height=\"500px\"/>\n",
    "<img src=\"img/q1_2_2.png\" width=\"600px\" height=\"500px\"/>"
   ]
  },
  {
   "cell_type": "markdown",
   "id": "002e6aa2",
   "metadata": {},
   "source": [
    "### Q1-3 : Global P\n",
    "\n",
    "- rectangle class 재구현"
   ]
  },
  {
   "cell_type": "code",
   "execution_count": null,
   "id": "97d604ce",
   "metadata": {},
   "outputs": [],
   "source": [
    "class Rectangle(object):\n",
    "    \n",
    "    def __init__(self,left:int=0,bottom:int=0,right:int=0,top:int=0) -> None:\n",
    "        self.sides = {\n",
    "            \"left\" : left,\n",
    "            \"bottom\" : bottom,\n",
    "            \"right\" : right,\n",
    "            \"top\" : top\n",
    "        }\n",
    "    \n",
    "    def checkPointExist(self,*args) -> bool:\n",
    "        keys = self.sides.keys()\n",
    "        for i in args:\n",
    "            if i not in keys:\n",
    "                return False\n",
    "        return True\n",
    "    \n",
    "    def getPoint(self,point:str) -> int:\n",
    "        if not self.checkPointExist(point):\n",
    "            raise Exception(\"Point not exist\")\n",
    "        return self.sides[point]\n",
    "    \n",
    "    def setPoint(self,point:str,value:int) -> None:\n",
    "        if not self.checkPointExist(point):\n",
    "            raise Exception(\"Point not exist\")\n",
    "        self.sides[point] = value\n",
    "    \n",
    "    def changePointValue(self,point:str,value:int = 1) -> None:\n",
    "        if not self.checkPointExist(point):\n",
    "            raise Exception(\"Point not exist\")\n",
    "        self.sides[point] = self.sides[point] + value"
   ]
  },
  {
   "cell_type": "code",
   "execution_count": null,
   "id": "38cfe0ed",
   "metadata": {},
   "outputs": [],
   "source": [
    "rt1 = Rectangle(10,20,10,30)\n",
    "rt2 = Rectangle(90,80,80,90)\n",
    "\n",
    "def swap(r1:Rectangle,r2:Rectangle):\n",
    "    t = r1\n",
    "    r1 = r2\n",
    "    r2 = t\n",
    "\n",
    "swap(rt1,rt2)"
   ]
  },
  {
   "cell_type": "markdown",
   "id": "58e4cefb",
   "metadata": {},
   "source": [
    "<img src=\"img/q1_3_1.png\" width=\"600px\" height=\"500px\"/>\n",
    "<img src=\"img/q1_3_2.png\" width=\"600px\" height=\"500px\"/>"
   ]
  },
  {
   "cell_type": "markdown",
   "id": "82f0ff5c",
   "metadata": {},
   "source": [
    "### Q2 - 1\n",
    "\n",
    "- 'MemoryInPython' 에 나오는 데모 파일 (v3) 을 수행하면서 각 함수의 call 이 끝나기 전의 메모리 모습을 관찰하여 캡쳐.\n",
    "\n",
    "<img src=\"img/q2_1.png\" width=\"600px\" height=\"500px\"/>\n",
    "<img src=\"img/q2_2.png\" width=\"600px\" height=\"500px\"/>\n",
    "<img src=\"img/q2_3.png\" width=\"600px\" height=\"500px\"/>\n",
    "<img src=\"img/q2_4.png\" width=\"600px\" height=\"500px\"/>"
   ]
  },
  {
   "cell_type": "markdown",
   "id": "54a1a1d0",
   "metadata": {},
   "source": [
    "### Q2 - 2\n",
    "\n",
    "- (2) 'MemoryInPython' 슬라이드 26번 실행해 보고 캡쳐.\n",
    "\n",
    "<img src=\"img/q2_5.png\" width=\"600px\" height=\"500px\"/>"
   ]
  },
  {
   "cell_type": "markdown",
   "id": "20256fe7",
   "metadata": {},
   "source": [
    "### Q2 - 3\n",
    "\n",
    "Q2: what does the call stack look like at this point in the execution of the code?\n",
    "\n",
    "```python\n",
    "def f3(): \n",
    "    print(\"f3\")\n",
    "def f2(): \n",
    "    print(\"f2\")\n",
    "    f3()\n",
    "    f3()\n",
    "    f3()\n",
    "def f1(): \n",
    "    print(\"f1\")\n",
    "    f2() \n",
    "    \n",
    "f1()\n",
    "```\n",
    "\n",
    "A : 정답은 B입니다. 마지막 f3()가 실행되지 않았기 때문입니다."
   ]
  },
  {
   "cell_type": "markdown",
   "id": "3bf1ff63",
   "metadata": {},
   "source": [
    "### Q2 - 3\n",
    "\n",
    "Q3: what does the call stack look like at this point in the execution of the code?\n",
    "\n",
    "```python\n",
    "def f3(): \n",
    "    print(\"f3\")\n",
    "def f2(): \n",
    "    print(\"f2\")\n",
    "    f3()\n",
    "    f3()\n",
    "    f3()\n",
    "def f1(): \n",
    "    print(\"f1\")\n",
    "    f2() \n",
    "    #-> here\n",
    "    \n",
    "f1()\n",
    "```\n",
    "\n",
    "A : 정답은 D입니다"
   ]
  }
 ],
 "metadata": {
  "kernelspec": {
   "display_name": "Python 3 (ipykernel)",
   "language": "python",
   "name": "python3"
  },
  "language_info": {
   "codemirror_mode": {
    "name": "ipython",
    "version": 3
   },
   "file_extension": ".py",
   "mimetype": "text/x-python",
   "name": "python",
   "nbconvert_exporter": "python",
   "pygments_lexer": "ipython3",
   "version": "3.9.12"
  }
 },
 "nbformat": 4,
 "nbformat_minor": 5
}
