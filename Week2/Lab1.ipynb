{
 "cells": [
  {
   "cell_type": "markdown",
   "id": "e633ebcc",
   "metadata": {},
   "source": [
    "# Lab 1 \n",
    "***\n",
    "- 작성자 : B889047 윤준호\n",
    "- 작성일 : 2022 / 09 / 13, Tue"
   ]
  },
  {
   "cell_type": "markdown",
   "id": "9b716ac5",
   "metadata": {},
   "source": [
    "# Task 1\n",
    "\n",
    "- 코드 모음에 있는 height* 함수들 (3개) python tutor 로 수행 및 이해. 중요 부분 snapshot 제출"
   ]
  },
  {
   "cell_type": "code",
   "execution_count": 1,
   "id": "65947325",
   "metadata": {},
   "outputs": [],
   "source": [
    "# height.py\n",
    "\n",
    "def get_feet(ht_in_inches):\n",
    "    \"\"\"Return ht_in_inches rounded down to nearest feet\"\"\"\n",
    "    return ht_in_inches // 12\n",
    "\n",
    "# Add more functions below around the theme of height for practice!"
   ]
  },
  {
   "cell_type": "markdown",
   "id": "de2c480c",
   "metadata": {},
   "source": [
    "![img](Lab1Img/height1.png)"
   ]
  },
  {
   "cell_type": "code",
   "execution_count": 2,
   "id": "d2d873cf",
   "metadata": {},
   "outputs": [],
   "source": [
    "# height2.py\n",
    "\n",
    "\"\"\"Demonstrate local vs. global variable\"\"\"\n",
    "\n",
    "INCHES_PER_FT = 12\n",
    "feet = \"plural of foot\"\n",
    "\n",
    "def get_feet(ht_in_inches):\n",
    "    \"\"\"Return ht_in_inches rounded down to the nearest feet\"\"\"\n",
    "    feet = ht_in_inches // INCHES_PER_FT\n",
    "    return feet"
   ]
  },
  {
   "cell_type": "markdown",
   "id": "b9857a98",
   "metadata": {},
   "source": [
    "![img](Lab1Img/height2.png)"
   ]
  },
  {
   "cell_type": "code",
   "execution_count": 3,
   "id": "f9526f00",
   "metadata": {},
   "outputs": [
    {
     "name": "stdout",
     "output_type": "stream",
     "text": [
      "68 inches rounds down to 5 feet\n",
      "Plural of foot\n"
     ]
    }
   ],
   "source": [
    "# height3.py\n",
    "\n",
    "\"\"\"Demonstrate\n",
    "    - use of global variable\n",
    "    - local vs. global variable\n",
    "    - calling a function and storing the returned result for further use\"\"\"\n",
    "\n",
    "INCHES_PER_FT = 12\n",
    "feet= \"Plural of foot\"\n",
    "\n",
    "def get_feet(ht_in_inches):\n",
    "    \"\"\"Return ht_in_inches rounded down to the nearest feet\"\"\"\n",
    "    feet = ht_in_inches // INCHES_PER_FT\n",
    "    return feet\n",
    "\n",
    "def get_inches(ht_in_feet):\n",
    "    \"\"\"Return ht_in_feet in inches\"\"\"\n",
    "    return ht_in_feet * INCHES_PER_FT\n",
    "\n",
    "input_inches = 68\n",
    "result= get_feet(input_inches)\n",
    "print(str(input_inches)  + \" inches rounds down to \" + str(result) + \" feet\")\n",
    "print(feet)"
   ]
  },
  {
   "cell_type": "markdown",
   "id": "6157400f",
   "metadata": {},
   "source": [
    "![img](Lab1Img/height3.png)"
   ]
  },
  {
   "cell_type": "markdown",
   "id": "a1c77e13",
   "metadata": {},
   "source": [
    "# Task2 \n",
    "- 강의 슬라이드에서 Q(1) (슬라이드 65)~ Q(6) 의 답안에 대한 이유를 말한다. 필요하면 Python tutor snapshot 사용"
   ]
  },
  {
   "cell_type": "markdown",
   "id": "a2ba29d4",
   "metadata": {},
   "source": [
    "### Q1\n",
    "\n",
    "A : 파이썬이 모듈을 호출하는 시점에 있어 실행 가능한 코드는 모두 호출 후 싱글톤 기반으로 로드되게 된다. 그렇기 때문에 ```import my_module```한 시점에서 이미 x는 foo()함수를 통해 연산이 된 후 ```9```라는 값을 가지고 있게 되는것이다\n",
    "\n",
    "### Q2\n",
    "\n",
    "A : 단지 함수를 실행했을 뿐 함수 반환값이 변수 ```x```에 대해 대입 연산이 이루어지지 않았기 때문에 2값이 그대로 들어가게 된다\n",
    "\n",
    "### Q3\n",
    "\n",
    "A : module.py에 작성된 변수 ```x```는 함수의 parameter이다. 즉 global scope에 소속되지 않게 된다. 그렇기 때문에, 모듈의 변수 접근 방식으로는 접근이 불가능하다. 파이썬 엔진 입장에서는 선언되지 않는 값에 대한 접근이므로 예외를 발생시킨다.\n",
    "\n",
    "### Q4\n",
    "\n",
    "A : x는 foo()함수로부터 값을 반환받아 대입하게 된다. 하지만 foo() 함수에는 return statement가 존재하지 않는다. 그렇기 때문에, 기본적으로 None이 반환되고, 출력도 None을 출력하게 된다.\n",
    "\n",
    "### Q5\n",
    "\n",
    "A : 4번 예제와 다르게 Q5의 foo()함수에는 return statement가 존재한다. 그렇기 때문에, ```x = 1+2```, ```x = 3*x``` 연산이 정상적으로 수행되게 되고, return statement에 명시된 x + 1까지 연산되어, 10이 반환되게 된다.\n",
    "\n",
    "### Q6\n",
    "\n",
    "A : 만약 ```a```라는 변수가 global scope에서 정의되고, 함수에서 정의되지 않았다고 가정해보자. 함수 내부에서 ```a``` 변수에 접근하면, 만약 자신이 소속된 스코프에 없을시 자신보다 상위 스코프에서 검색을 하게 된다. 기본적으로 지역변수에 선언된 변수는 해당 지역 스코프 이상에 대해서 영향을 줄 수 없다.(global 키워드 사용하는 경우 제외). 또한 최우측 예제 같은 경우에는 왼쪽에 x가 선언된 상태이기 때문에, 변수 x는 지역 스코프에 정의된것으로 판정된다. 그렇기 때문에, 정의되지 않은 변수 관련 예외가 발생한다\n",
    "\n",
    "#### Q6 - Case1\n",
    "![img](Lab1Img/task2_1.png)\n",
    "#### Q6 - Case2\n",
    "![img](Lab1Img/task2_2.png)\n",
    "#### Q6 - Case3\n",
    "![img](Lab1Img/task2_3.png)"
   ]
  },
  {
   "cell_type": "markdown",
   "id": "1c71b021",
   "metadata": {},
   "source": [
    "# Task 3\n",
    "- 첨부된 파일 (함수 영역 예제)에 있는 문제들을 Python Tutor 로 수행해 본 후에  중요 부분 snapshot 제출"
   ]
  },
  {
   "cell_type": "code",
   "execution_count": 4,
   "id": "c418c8de",
   "metadata": {},
   "outputs": [
    {
     "name": "stdout",
     "output_type": "stream",
     "text": [
      "hi\n",
      "False\n"
     ]
    }
   ],
   "source": [
    "def is_even (i):\n",
    "    print(\"hi\")\n",
    "    return i%2 == 0\n",
    "result = is_even(3)\n",
    "print(result)"
   ]
  },
  {
   "cell_type": "markdown",
   "id": "678bca19",
   "metadata": {},
   "source": [
    "![img](Lab1Img/task3_1.png)"
   ]
  },
  {
   "cell_type": "code",
   "execution_count": 5,
   "id": "a6bef8e4",
   "metadata": {},
   "outputs": [
    {
     "name": "stdout",
     "output_type": "stream",
     "text": [
      "in f(x): x = 4\n",
      "x =  3\n",
      "z =  4\n"
     ]
    }
   ],
   "source": [
    "x = 3\n",
    "def f(x):\n",
    "    x = x + 1\n",
    "    print(\"in f(x): x =\", x)\n",
    "    return x\n",
    "z = f(x)\n",
    "print(\"x = \", x)\n",
    "print(\"z = \", z)"
   ]
  },
  {
   "cell_type": "markdown",
   "id": "b75d1698",
   "metadata": {},
   "source": [
    "![img](Lab1Img/task3_2.png)"
   ]
  },
  {
   "cell_type": "code",
   "execution_count": 6,
   "id": "a62da7b4",
   "metadata": {},
   "outputs": [
    {
     "name": "stdout",
     "output_type": "stream",
     "text": [
      "inside func_a\n",
      "None\n",
      "inside func_b\n",
      "7\n",
      "inside func_c\n",
      "inside func_a\n",
      "None\n"
     ]
    }
   ],
   "source": [
    "def func_a():\n",
    "    print(\"inside func_a\")\n",
    "def func_b(y):\n",
    "    print(\"inside func_b\")\n",
    "    return y\n",
    "def func_c(z):\n",
    "    print(\"inside func_c\")\n",
    "    return z()\n",
    "print(func_a())\n",
    "print(5 + func_b(2))\n",
    "print(func_c(func_a))"
   ]
  },
  {
   "cell_type": "markdown",
   "id": "e6f4789c",
   "metadata": {},
   "source": [
    "## Snapshot 1"
   ]
  },
  {
   "cell_type": "markdown",
   "id": "24a7b8e8",
   "metadata": {},
   "source": [
    "![img](Lab1Img/task3_3_1.png)"
   ]
  },
  {
   "cell_type": "markdown",
   "id": "b37f9772",
   "metadata": {},
   "source": [
    "## Snapshot 2"
   ]
  },
  {
   "cell_type": "markdown",
   "id": "50da1ff5",
   "metadata": {},
   "source": [
    "![img](Lab1Img/task3_3_2.png)"
   ]
  },
  {
   "cell_type": "markdown",
   "id": "8eaddcc3",
   "metadata": {},
   "source": [
    "## Snapshot 3"
   ]
  },
  {
   "cell_type": "markdown",
   "id": "c4e5221d",
   "metadata": {},
   "source": [
    "![img](Lab1Img/task3_3_3.png)"
   ]
  },
  {
   "cell_type": "code",
   "execution_count": 7,
   "id": "1d10e922",
   "metadata": {},
   "outputs": [
    {
     "name": "stdout",
     "output_type": "stream",
     "text": [
      " inside of f(), x =  2\n",
      "result of f(2) =  None\n",
      "in global scope, x =  5\n"
     ]
    }
   ],
   "source": [
    "# Scope of function\n",
    "#1\n",
    "def f(y):\n",
    "    x = 1\n",
    "    x += 1\n",
    "    print(\" inside of f(), x = \", x)\n",
    "x = 5\n",
    "print(\"result of f(2) = \", f(2))\n",
    "print (\"in global scope, x = \", x)"
   ]
  },
  {
   "cell_type": "markdown",
   "id": "c342a6de",
   "metadata": {},
   "source": [
    "![img](Lab1Img/task3_4.png)"
   ]
  },
  {
   "cell_type": "code",
   "execution_count": 8,
   "id": "6402b6f0",
   "metadata": {},
   "outputs": [
    {
     "name": "stdout",
     "output_type": "stream",
     "text": [
      "inside of g(), x =  5\n",
      "in global scope, x =  5\n"
     ]
    }
   ],
   "source": [
    "# Scope of function\n",
    "#2 \n",
    "def g(y):\n",
    "    print (\"inside of g(), x = \", x)\n",
    "x= 5\n",
    "g(2)\n",
    "print (\"in global scope, x = \", x)"
   ]
  },
  {
   "cell_type": "markdown",
   "id": "f2805f1e",
   "metadata": {},
   "source": [
    "![img](Lab1Img/task3_5.png)"
   ]
  },
  {
   "cell_type": "code",
   "execution_count": 9,
   "id": "ca773133",
   "metadata": {},
   "outputs": [
    {
     "ename": "UnboundLocalError",
     "evalue": "local variable 'x' referenced before assignment",
     "output_type": "error",
     "traceback": [
      "\u001b[0;31m---------------------------------------------------------------------------\u001b[0m",
      "\u001b[0;31mUnboundLocalError\u001b[0m                         Traceback (most recent call last)",
      "Input \u001b[0;32mIn [9]\u001b[0m, in \u001b[0;36m<cell line: 6>\u001b[0;34m()\u001b[0m\n\u001b[1;32m      4\u001b[0m     x \u001b[38;5;241m=\u001b[39m x \u001b[38;5;241m+\u001b[39m \u001b[38;5;241m1\u001b[39m\n\u001b[1;32m      5\u001b[0m     x \u001b[38;5;241m=\u001b[39m \u001b[38;5;241m5\u001b[39m\n\u001b[0;32m----> 6\u001b[0m \u001b[43mh\u001b[49m\u001b[43m(\u001b[49m\u001b[38;5;241;43m2\u001b[39;49m\u001b[43m)\u001b[49m\n\u001b[1;32m      7\u001b[0m \u001b[38;5;28mprint\u001b[39m (x)\n",
      "Input \u001b[0;32mIn [9]\u001b[0m, in \u001b[0;36mh\u001b[0;34m(y)\u001b[0m\n\u001b[1;32m      3\u001b[0m \u001b[38;5;28;01mdef\u001b[39;00m \u001b[38;5;21mh\u001b[39m(y):\n\u001b[0;32m----> 4\u001b[0m     x \u001b[38;5;241m=\u001b[39m \u001b[43mx\u001b[49m \u001b[38;5;241m+\u001b[39m \u001b[38;5;241m1\u001b[39m\n\u001b[1;32m      5\u001b[0m     x \u001b[38;5;241m=\u001b[39m \u001b[38;5;241m5\u001b[39m\n",
      "\u001b[0;31mUnboundLocalError\u001b[0m: local variable 'x' referenced before assignment"
     ]
    }
   ],
   "source": [
    "# Scope of function\n",
    "# 3\n",
    "def h(y):\n",
    "    x = x + 1\n",
    "    x = 5\n",
    "h(2)\n",
    "print (x)"
   ]
  },
  {
   "cell_type": "markdown",
   "id": "cfd3c1d0",
   "metadata": {},
   "source": [
    "![img](Lab1Img/task3_6.png)"
   ]
  },
  {
   "cell_type": "code",
   "execution_count": null,
   "id": "66894830",
   "metadata": {},
   "outputs": [],
   "source": [
    "# 함수 이름 충돌을 위해서 h() -> h1()\n",
    "x = 'hello' \n",
    "y = 5\n",
    "def g(x) :\n",
    "    x = x + y \n",
    "    def h_1(y):\n",
    "        return x + y \n",
    "    return h_1(x)\n",
    "x=10\n",
    "print(g(x +y))"
   ]
  },
  {
   "cell_type": "markdown",
   "id": "320c8e02",
   "metadata": {},
   "source": [
    "![img](Lab1Img/task3_7.png)"
   ]
  },
  {
   "cell_type": "code",
   "execution_count": null,
   "id": "40bf98d5",
   "metadata": {},
   "outputs": [],
   "source": []
  }
 ],
 "metadata": {
  "kernelspec": {
   "display_name": "Python 3 (ipykernel)",
   "language": "python",
   "name": "python3"
  },
  "language_info": {
   "codemirror_mode": {
    "name": "ipython",
    "version": 3
   },
   "file_extension": ".py",
   "mimetype": "text/x-python",
   "name": "python",
   "nbconvert_exporter": "python",
   "pygments_lexer": "ipython3",
   "version": "3.9.12"
  }
 },
 "nbformat": 4,
 "nbformat_minor": 5
}
