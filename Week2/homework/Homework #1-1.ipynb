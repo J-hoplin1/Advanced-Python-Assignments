{
 "cells": [
  {
   "cell_type": "markdown",
   "id": "e0352b24",
   "metadata": {},
   "source": [
    "## Week 2 Homework \\#1-1 Report\n",
    "***\n",
    "- 작성자 : B889047 윤준호\n",
    "- 작성일 : 2022 / 09 / 19, Mon"
   ]
  },
  {
   "cell_type": "markdown",
   "id": "624b5edc",
   "metadata": {},
   "source": [
    "### 아래 사이트에서 해당 내용을 공부하여 간단 정리, 그리고 코드를 (가능하면) python tutor/ 본인의 개발 환경에서 수행한 snapshot 추가. (필요하면 Chrome 영어 번역 기능 활용)\n",
    "\n",
    "- (DocString) https://cs50.harvard.edu/python/2022/notes/9/#docstrings \n",
    "\n",
    "- (Random, Sys) https://cs50.harvard.edu/python/2022/notes/4/ "
   ]
  },
  {
   "cell_type": "markdown",
   "id": "066986d4",
   "metadata": {},
   "source": [
    "## About Doc-String\n",
    "\n",
    "- `Doc-String` 은 함수, 클래스, 메소드의 목적이나, 설명을 기술하기 위한 가장 표준적인 방법이다. 예시 코드 작성해보면 아래와 같이 작성할 수 있다.\n",
    "- `Doc-String` 을 작성하기 위해서는 Python문법중 `Multiline-String` 을 사용해 주어야 한다(`”””` 혹은 `'''` )\n",
    "- `Doc-String`에는 parameter에 대한 정보, parameter타입, 어떤 예외가 발생할 수 있는지, 반환값에 대한 정보와 반환 값의 타입등의 정보들이 적혀있다.\n",
    "- `Doc-String`에 관한 Convention은 [PEP-257](https://peps.python.org/pep-0257/)에 명시되어있다.\n",
    "- `Doc-String`을 출력을 하기 위해서는 아래 두가지 방법이 존재한다\n",
    "    - help() 내장함수 사용 : help안에 함수 혹은 클래스 객체 자체를 넘겨주어야 한다\n",
    "    - .\\_\\_doc\\_\\_ [매직메소드](https://wikidocs.net/83755) 사용"
   ]
  },
  {
   "cell_type": "code",
   "execution_count": 1,
   "id": "fc88221d",
   "metadata": {},
   "outputs": [],
   "source": [
    "from typing import Callable,Any"
   ]
  },
  {
   "cell_type": "code",
   "execution_count": 2,
   "id": "e3c7960b",
   "metadata": {},
   "outputs": [
    {
     "name": "stdout",
     "output_type": "stream",
     "text": [
      "Numbers : 5\n",
      "meow\n",
      "meow\n",
      "meow\n",
      "meow\n",
      "meow\n"
     ]
    }
   ],
   "source": [
    "# Function\n",
    "\n",
    "def meow(n:int) -> None:\n",
    "    \"\"\"\n",
    "    Meow n times\n",
    "\n",
    "    :param n: Number of times to meow\n",
    "    :type n: int\n",
    "    :raise TypeError: If n is not an int\n",
    "    :return: A string of n meows, one per line\n",
    "    :rtype: str\n",
    "    \"\"\"\n",
    "    return \"meow\\n\" * n\n",
    "\n",
    "number:int = int(input(\"Numbers : \"))\n",
    "meows:str = meow(number)\n",
    "print(meows,end=\"\")"
   ]
  },
  {
   "cell_type": "code",
   "execution_count": 3,
   "id": "fa58cdaa",
   "metadata": {},
   "outputs": [
    {
     "name": "stdout",
     "output_type": "stream",
     "text": [
      "Help on function meow in module __main__:\n",
      "\n",
      "meow(n: int) -> None\n",
      "    Meow n times\n",
      "    \n",
      "    :param n: Number of times to meow\n",
      "    :type n: int\n",
      "    :raise TypeError: If n is not an int\n",
      "    :return: A string of n meows, one per line\n",
      "    :rtype: str\n",
      "\n"
     ]
    }
   ],
   "source": [
    "help(meow)"
   ]
  },
  {
   "cell_type": "code",
   "execution_count": 4,
   "id": "03ffdf6a",
   "metadata": {},
   "outputs": [
    {
     "data": {
      "text/plain": [
       "'\\n    Meow n times\\n\\n    :param n: Number of times to meow\\n    :type n: int\\n    :raise TypeError: If n is not an int\\n    :return: A string of n meows, one per line\\n    :rtype: str\\n    '"
      ]
     },
     "execution_count": 4,
     "metadata": {},
     "output_type": "execute_result"
    }
   ],
   "source": [
    "meow.__doc__"
   ]
  },
  {
   "cell_type": "code",
   "execution_count": 5,
   "id": "a401f9b1",
   "metadata": {},
   "outputs": [],
   "source": [
    "class calculate(object):\n",
    "    \"\"\"\n",
    "    calculate : calculate integer\n",
    "    \n",
    "    multiply\n",
    "    \n",
    "    :param x: variable x\n",
    "    :param y: varaible y\n",
    "    :type x: int\n",
    "    :type y: int\n",
    "    :raise TypeError: If parameter is not type of int\n",
    "    :return: result of multiply\n",
    "    :rtype: int\n",
    "    \"\"\"\n",
    "    \n",
    "    def __init__(self):\n",
    "        pass\n",
    "\n",
    "    def multiply(self,x:int,y:int) -> int:\n",
    "        \"\"\"\n",
    "        multiply two numbers\n",
    "        \n",
    "        :param x: variable x\n",
    "        :param y: varaible y\n",
    "        :type x: int\n",
    "        :type y: int\n",
    "        :raise TypeException: If parameter is not type of int\n",
    "        :return: result of multiply\n",
    "        :rtype: int\n",
    "        \"\"\"\n",
    "        return x * y"
   ]
  },
  {
   "cell_type": "code",
   "execution_count": 6,
   "id": "53273510",
   "metadata": {},
   "outputs": [
    {
     "name": "stdout",
     "output_type": "stream",
     "text": [
      "Help on class calculate in module __main__:\n",
      "\n",
      "class calculate(builtins.object)\n",
      " |  calculate : calculate integer\n",
      " |  \n",
      " |  multiply\n",
      " |  \n",
      " |  :param x: variable x\n",
      " |  :param y: varaible y\n",
      " |  :type x: int\n",
      " |  :type y: int\n",
      " |  :raise TypeError: If parameter is not type of int\n",
      " |  :return: result of multiply\n",
      " |  :rtype: int\n",
      " |  \n",
      " |  Methods defined here:\n",
      " |  \n",
      " |  __init__(self)\n",
      " |      Initialize self.  See help(type(self)) for accurate signature.\n",
      " |  \n",
      " |  multiply(self, x: int, y: int) -> int\n",
      " |      multiply two numbers\n",
      " |      \n",
      " |      :param x: variable x\n",
      " |      :param y: varaible y\n",
      " |      :type x: int\n",
      " |      :type y: int\n",
      " |      :raise TypeException: If parameter is not type of int\n",
      " |      :return: result of multiply\n",
      " |      :rtype: int\n",
      " |  \n",
      " |  ----------------------------------------------------------------------\n",
      " |  Data descriptors defined here:\n",
      " |  \n",
      " |  __dict__\n",
      " |      dictionary for instance variables (if defined)\n",
      " |  \n",
      " |  __weakref__\n",
      " |      list of weak references to the object (if defined)\n",
      "\n"
     ]
    }
   ],
   "source": [
    "help(calculate)"
   ]
  },
  {
   "cell_type": "code",
   "execution_count": 7,
   "id": "748d9686",
   "metadata": {},
   "outputs": [
    {
     "name": "stdout",
     "output_type": "stream",
     "text": [
      "Help on function multiply in module __main__:\n",
      "\n",
      "multiply(self, x: int, y: int) -> int\n",
      "    multiply two numbers\n",
      "    \n",
      "    :param x: variable x\n",
      "    :param y: varaible y\n",
      "    :type x: int\n",
      "    :type y: int\n",
      "    :raise TypeException: If parameter is not type of int\n",
      "    :return: result of multiply\n",
      "    :rtype: int\n",
      "\n"
     ]
    }
   ],
   "source": [
    "help(calculate.multiply)"
   ]
  },
  {
   "cell_type": "markdown",
   "id": "9f62769c",
   "metadata": {},
   "source": [
    "## About Random\n",
    "\n",
    "- `Random` 파이썬에 기본적으로 탑재된 내장 모듈이다. 즉, 따로 설치 없이 `import`를 통해 바로 사용할 수 있다는 것이다.\n",
    "- `Random` 모듈 안에는 내장함수로 `random.choice(seq)`가 존재한다. 여기서 매개변수로 가지는 `seq`는 `sequence`를 의미한다. 한번 `random.choice()`를 사용해 보자"
   ]
  },
  {
   "cell_type": "code",
   "execution_count": 8,
   "id": "5762cd32",
   "metadata": {},
   "outputs": [
    {
     "name": "stdout",
     "output_type": "stream",
     "text": [
      "heads\n"
     ]
    }
   ],
   "source": [
    "import random\n",
    "\n",
    "coin = random.choice([\"heads\",\"tails\"])\n",
    "print(coin)"
   ]
  },
  {
   "cell_type": "markdown",
   "id": "8f94d7f7",
   "metadata": {},
   "source": [
    "- `Sequence`를 매개변수로 받기 때문에 리스트 뿐만 아니라 튜플을 인자로 넣어줘도 된다."
   ]
  },
  {
   "cell_type": "code",
   "execution_count": 9,
   "id": "3ddd745e",
   "metadata": {},
   "outputs": [
    {
     "name": "stdout",
     "output_type": "stream",
     "text": [
      "heads\n"
     ]
    }
   ],
   "source": [
    "coin2 = random.choice((\"heads\",\"tails\"))\n",
    "print(coin)"
   ]
  },
  {
   "cell_type": "markdown",
   "id": "e7c938b6",
   "metadata": {},
   "source": [
    "- 추가적으로 `random`을 `import`하는 방식을 변경하여 코드를 개선해 봅니다. 아래와 같이 import만 해서 모듈을 사용시, `(모듈).(함수)` 형태로 사용하지만 `from` 키워드를 사용하면 원하는 내장함수만 선언하여 사용할 수 있다.\n",
    "\n",
    "```python\n",
    "# 기존 방식\n",
    "import random\n",
    "\n",
    "# 개선 방식\n",
    "from random import choice\n",
    "\n",
    "# 만약 해당 모듈의 모든 함수를 쓰고 싶다면\n",
    "from random import *\n",
    "```"
   ]
  },
  {
   "cell_type": "code",
   "execution_count": 10,
   "id": "43078a73",
   "metadata": {},
   "outputs": [
    {
     "data": {
      "text/plain": [
       "'heads'"
      ]
     },
     "execution_count": 10,
     "metadata": {},
     "output_type": "execute_result"
    }
   ],
   "source": [
    "from random import choice\n",
    "\n",
    "coin = choice([\"heads\",\"tails\"])\n",
    "coin"
   ]
  },
  {
   "cell_type": "markdown",
   "id": "00913f62",
   "metadata": {},
   "source": [
    "- `random.randint(a,b)`를 사용해 봅니다. `randint(a,b)`는 a와 b 사이에 있는 숫자를 랜덤으로(a,b포함) 선택해서 반환해 줍니다 "
   ]
  },
  {
   "cell_type": "code",
   "execution_count": 11,
   "id": "f9ab87ee",
   "metadata": {},
   "outputs": [
    {
     "name": "stdout",
     "output_type": "stream",
     "text": [
      "9\n"
     ]
    }
   ],
   "source": [
    "from random import randint\n",
    "\n",
    "number = random.randint(1,10)\n",
    "print(number)"
   ]
  },
  {
   "cell_type": "markdown",
   "id": "014c441c",
   "metadata": {},
   "source": [
    "- `random.randint(a,b)`를 응용해서 10개의 랜덤 넘버를 포함한 리스트를 반환해 봅니다"
   ]
  },
  {
   "cell_type": "code",
   "execution_count": 12,
   "id": "f53b0b8d",
   "metadata": {},
   "outputs": [
    {
     "name": "stdout",
     "output_type": "stream",
     "text": [
      "8 5 8 3 10 3 10 2 7 2 "
     ]
    }
   ],
   "source": [
    "randomnumbers = [ randint(1,10) for _ in range(10)]\n",
    "print(*randomnumbers,end=\" \")"
   ]
  },
  {
   "cell_type": "markdown",
   "id": "cd0c903a",
   "metadata": {},
   "source": [
    "- `random.shuffle(x)`를 사용해 봅니다. `random.shuffle`은 리스트 안에 있는 값들을 무작위로 섞어서 반환해 줍니다. 위에서 보았던 다른 함수들과 달리 새로운 값을 반환하는것이 아닌 기존, 값(리스트)을 변경하는방식입니다."
   ]
  },
  {
   "cell_type": "code",
   "execution_count": 13,
   "id": "4c369ff2",
   "metadata": {},
   "outputs": [
    {
     "name": "stdout",
     "output_type": "stream",
     "text": [
      "queen\n",
      "king\n",
      "jack\n"
     ]
    }
   ],
   "source": [
    "import random\n",
    "\n",
    "\n",
    "def make_cardset_shuffle(cards:list) -> None:\n",
    "    random.shuffle(cards)\n",
    "\n",
    "cards_list = [\"jack\",\"queen\",\"king\"]\n",
    "make_cardset_shuffle(cards_list)\n",
    "\n",
    "print(*cards_list,sep=\"\\n\")"
   ]
  },
  {
   "cell_type": "markdown",
   "id": "c562c285",
   "metadata": {},
   "source": [
    "- 기존 값을 변경하는 방식이기 때문에, 불변 속성을 가진 시퀀스 타입인 튜플로는 작동하지 않습니다"
   ]
  },
  {
   "cell_type": "code",
   "execution_count": 14,
   "id": "3bd852f0",
   "metadata": {},
   "outputs": [
    {
     "ename": "TypeError",
     "evalue": "'tuple' object does not support item assignment",
     "output_type": "error",
     "traceback": [
      "\u001b[0;31m---------------------------------------------------------------------------\u001b[0m",
      "\u001b[0;31mTypeError\u001b[0m                                 Traceback (most recent call last)",
      "Input \u001b[0;32mIn [14]\u001b[0m, in \u001b[0;36m<module>\u001b[0;34m\u001b[0m\n\u001b[1;32m      1\u001b[0m cards_tuple \u001b[38;5;241m=\u001b[39m (\u001b[38;5;124m\"\u001b[39m\u001b[38;5;124mjack\u001b[39m\u001b[38;5;124m\"\u001b[39m,\u001b[38;5;124m\"\u001b[39m\u001b[38;5;124mqueen\u001b[39m\u001b[38;5;124m\"\u001b[39m,\u001b[38;5;124m\"\u001b[39m\u001b[38;5;124mking\u001b[39m\u001b[38;5;124m\"\u001b[39m)\n\u001b[0;32m----> 2\u001b[0m \u001b[43mmake_cardset_shuffle\u001b[49m\u001b[43m(\u001b[49m\u001b[43mcards_tuple\u001b[49m\u001b[43m)\u001b[49m\n\u001b[1;32m      4\u001b[0m \u001b[38;5;28mprint\u001b[39m(\u001b[38;5;241m*\u001b[39mcards_tuple,sep\u001b[38;5;241m=\u001b[39m\u001b[38;5;124m\"\u001b[39m\u001b[38;5;130;01m\\n\u001b[39;00m\u001b[38;5;124m\"\u001b[39m)\n",
      "Input \u001b[0;32mIn [13]\u001b[0m, in \u001b[0;36mmake_cardset_shuffle\u001b[0;34m(cards)\u001b[0m\n\u001b[1;32m      4\u001b[0m \u001b[38;5;28;01mdef\u001b[39;00m \u001b[38;5;21mmake_cardset_shuffle\u001b[39m(cards:\u001b[38;5;28mlist\u001b[39m) \u001b[38;5;241m-\u001b[39m\u001b[38;5;241m>\u001b[39m \u001b[38;5;28;01mNone\u001b[39;00m:\n\u001b[0;32m----> 5\u001b[0m     \u001b[43mrandom\u001b[49m\u001b[38;5;241;43m.\u001b[39;49m\u001b[43mshuffle\u001b[49m\u001b[43m(\u001b[49m\u001b[43mcards\u001b[49m\u001b[43m)\u001b[49m\n",
      "File \u001b[0;32m/opt/homebrew/Cellar/python@3.9/3.9.13_2/Frameworks/Python.framework/Versions/3.9/lib/python3.9/random.py:362\u001b[0m, in \u001b[0;36mRandom.shuffle\u001b[0;34m(self, x, random)\u001b[0m\n\u001b[1;32m    359\u001b[0m     \u001b[38;5;28;01mfor\u001b[39;00m i \u001b[38;5;129;01min\u001b[39;00m \u001b[38;5;28mreversed\u001b[39m(\u001b[38;5;28mrange\u001b[39m(\u001b[38;5;241m1\u001b[39m, \u001b[38;5;28mlen\u001b[39m(x))):\n\u001b[1;32m    360\u001b[0m         \u001b[38;5;66;03m# pick an element in x[:i+1] with which to exchange x[i]\u001b[39;00m\n\u001b[1;32m    361\u001b[0m         j \u001b[38;5;241m=\u001b[39m randbelow(i \u001b[38;5;241m+\u001b[39m \u001b[38;5;241m1\u001b[39m)\n\u001b[0;32m--> 362\u001b[0m         x[i], x[j] \u001b[38;5;241m=\u001b[39m x[j], x[i]\n\u001b[1;32m    363\u001b[0m \u001b[38;5;28;01melse\u001b[39;00m:\n\u001b[1;32m    364\u001b[0m     _warn(\u001b[38;5;124m'\u001b[39m\u001b[38;5;124mThe *random* parameter to shuffle() has been deprecated\u001b[39m\u001b[38;5;130;01m\\n\u001b[39;00m\u001b[38;5;124m'\u001b[39m\n\u001b[1;32m    365\u001b[0m           \u001b[38;5;124m'\u001b[39m\u001b[38;5;124msince Python 3.9 and will be removed in a subsequent \u001b[39m\u001b[38;5;124m'\u001b[39m\n\u001b[1;32m    366\u001b[0m           \u001b[38;5;124m'\u001b[39m\u001b[38;5;124mversion.\u001b[39m\u001b[38;5;124m'\u001b[39m,\n\u001b[1;32m    367\u001b[0m           \u001b[38;5;167;01mDeprecationWarning\u001b[39;00m, \u001b[38;5;241m2\u001b[39m)\n",
      "\u001b[0;31mTypeError\u001b[0m: 'tuple' object does not support item assignment"
     ]
    }
   ],
   "source": [
    "cards_tuple = (\"jack\",\"queen\",\"king\")\n",
    "make_cardset_shuffle(cards_tuple)\n",
    "\n",
    "print(*cards_tuple,sep=\"\\n\")"
   ]
  },
  {
   "cell_type": "markdown",
   "id": "958036dc",
   "metadata": {},
   "source": [
    "## About sys - Command Line Arguments\n",
    "\n",
    "- 우리가 일반적으로 command line, 즉 cli환경에서 코드를 실행할때 아래 예시에서 첫번째와 같이 명령어를 입력한다. 두번째 형태 같은 경우에 파일 이외 다른 값들을 넘겨주고는 한다. 저러한 것들을 우리는 `parameter` 라고 부른다.\n",
    "\n",
    "```bash\n",
    "python3 example.py\n",
    "\n",
    "python3 example.py \"example string\" 23\n",
    "```\n",
    "- `sys` 모듈을 이용하면, 이 실행시 매개변수를 사용해 줄 수 있다. `sys.argv` 클래스 변수를 사용해서 매개변수를 들고올 수 있다. 한가지 짚고 넘어갈 점은 `sys.argv`는 `list`타입의 변수이며, 0번째 index는 실행파일의 이름이 담긴다. 즉 사실상 사용자가 입력한 매개변수는 Index 1번부터라는 것이다. 예를 들어 argumet_example폴더에 example.py라는 파이썬 폴더에 아래와 같이 코드를 입력했다고 가정하자.\n",
    "\n",
    "```python\n",
    "import sys\n",
    "\n",
    "print(sys.argv)\n",
    "print(f\"Execution file name : {sys.argv[0]}\")\n",
    "print(f\"My name is {sys.argv[1]}\")\n",
    "```"
   ]
  },
  {
   "cell_type": "code",
   "execution_count": 15,
   "id": "b08dd956",
   "metadata": {
    "pycharm": {
     "name": "#%%\n"
    }
   },
   "outputs": [
    {
     "name": "stdout",
     "output_type": "stream",
     "text": [
      "['argument_example/example.py', 'Hoplin']\r\n",
      "Execution file name : argument_example/example.py\r\n",
      "My name is Hoplin\r\n"
     ]
    }
   ],
   "source": [
    "!python3 argument_example/example.py Hoplin"
   ]
  },
  {
   "cell_type": "markdown",
   "id": "e9aa1a0a",
   "metadata": {
    "pycharm": {
     "name": "#%% md\n"
    }
   },
   "source": [
    "- 만약 사용자가 매개변수를 입력하지 않는 경우가 발생할 수 도 있다. 그런 경우에 코드 런타임 관점에서 두가지 해결방안이 있다.\n",
    "    - `IndexError`가 날 것이므로, 해당 부분에 대한 예외처리 후 종료\n",
    "    - `IndexErrr` 검사를 한 후 기본값으로 대체\n",
    "- example2, example3 각각에 두가지 경우를 모두 작성해 보자.\n",
    "\n",
    "```python\n",
    "# Case  : example2.py\n",
    "\n",
    "import sys\n",
    "\n",
    "try:\n",
    "    print(f\"My name is {sys.argv[1]}\")\n",
    "except IndexError as e:\n",
    "    print(\"Argument not found\")\n",
    "```"
   ]
  },
  {
   "cell_type": "code",
   "execution_count": 16,
   "id": "596ebb37",
   "metadata": {
    "pycharm": {
     "name": "#%%\n"
    }
   },
   "outputs": [
    {
     "name": "stdout",
     "output_type": "stream",
     "text": [
      "Argument not found\r\n"
     ]
    }
   ],
   "source": [
    "!python3 argument_example/example2.py"
   ]
  },
  {
   "cell_type": "markdown",
   "id": "d03c33a6",
   "metadata": {
    "pycharm": {
     "name": "#%%\n"
    }
   },
   "source": [
    "```python\n",
    "# Case 2\n",
    "\n",
    "import sys\n",
    "\n",
    "name = \"Default Name\"\n",
    "try:\n",
    "    name = sys.argv[1]\n",
    "except IndexError:\n",
    "    pass\n",
    "\n",
    "print(f\"My name is {name}\")\n",
    "```"
   ]
  },
  {
   "cell_type": "code",
   "execution_count": 17,
   "id": "8bceab22",
   "metadata": {},
   "outputs": [
    {
     "name": "stdout",
     "output_type": "stream",
     "text": [
      "My name is Default Name\r\n"
     ]
    }
   ],
   "source": [
    "!python3 argument_example/example3.py"
   ]
  },
  {
   "cell_type": "markdown",
   "id": "fed47624",
   "metadata": {},
   "source": [
    "- `argument`는 기본적으로 하나를 가지고 시작한다. 그렇기 때문에 매개변수를 하나 받는다고 하면 `argument`에 두개가 들어오게 되는것이다. 이 성질을 통해서 사용자가 `argument`를 입력하지 않았을때에 대한 대응을 해줄 수 있다.\n",
    "<br>\n",
    "<br>\n",
    "\n",
    "- `sys.argv`는 리스트 형태이므로, 길이를 바탕으로 입력의 여부를 확인해 줄 수 있다. 아래 예시를 살펴보자 아래 예시는 총 두개의 `argument`가 필요한 예시이다. 코드를 작성하기 전에 살펴봐야할 것은, 그럼 `sys.argv`안에는 총 3개의 원소가 들어있어야 한다. 하나는 실행파일 이름, 나머지 두개는 입력 `argument`가 되는것이다. 그렇기에, `sys.argv`의 길이가 3개 미만, 혹은 3개 초과인 경우에 대해 잘못된 값이라고 예외를 발생시킬 수 있다\n",
    "\n",
    "- 여기에 추가적으로 첫번째 argument는 string타입, 두번째 argument는 int타입이라는 제약이 있다고 가정하자.\n",
    "\n",
    "```python\n",
    "import sys\n",
    "\n",
    "try:\n",
    "    if len(sys.argv) < 3 or len(sys.argv) > 3:\n",
    "        raise IndexError(\"Argument count not matched\")\n",
    "    _,name,age = sys.argv\n",
    "    try:\n",
    "        age = int(age)\n",
    "    except ValueError as e:\n",
    "        print(\"Argument type not matched\")\n",
    "        sys.exit()\n",
    "    print(f\"My name is {sys.argv[1]} and my age is {sys.argv[2]}\")\n",
    "except IndexError as e:\n",
    "    print(e.args[0])\n",
    "```"
   ]
  },
  {
   "cell_type": "code",
   "execution_count": 18,
   "id": "ef5bec97",
   "metadata": {},
   "outputs": [
    {
     "name": "stdout",
     "output_type": "stream",
     "text": [
      "Argument count not matched\r\n"
     ]
    }
   ],
   "source": [
    "!python3 argument_example/example4.py"
   ]
  },
  {
   "cell_type": "code",
   "execution_count": 19,
   "id": "f43c96ef",
   "metadata": {},
   "outputs": [
    {
     "name": "stdout",
     "output_type": "stream",
     "text": [
      "Argument type not matched\r\n"
     ]
    }
   ],
   "source": [
    "!python3 argument_example/example4.py 20 example"
   ]
  },
  {
   "cell_type": "code",
   "execution_count": 20,
   "id": "024e14ba",
   "metadata": {},
   "outputs": [
    {
     "name": "stdout",
     "output_type": "stream",
     "text": [
      "My name is Hoplin and my age is 24\r\n"
     ]
    }
   ],
   "source": [
    "!python3 argument_example/example4.py Hoplin 24"
   ]
  },
  {
   "cell_type": "markdown",
   "id": "abc8ae9f",
   "metadata": {},
   "source": [
    "- 위에서는 `sys.argv`의 성질을 살펴보았다. 우리가 우선적으로 알 수 있는것은, `sys.argv`는 클래스 변수이며, `list`타입이라는 것이다.\n",
    "\n",
    "```python\n",
    "import sys\n",
    "\n",
    "if len(sys.argv) < 2:\n",
    "    sys.exit(\"Too few arguments\")\n",
    "\n",
    "for arg in sys.argv:\n",
    "    print(\"hello, my name is\", arg)\n",
    "```"
   ]
  },
  {
   "cell_type": "code",
   "execution_count": 21,
   "id": "1d55404a",
   "metadata": {},
   "outputs": [
    {
     "name": "stdout",
     "output_type": "stream",
     "text": [
      "hello, my name is argument_example/example5.py\r\n",
      "hello, my name is alice\r\n",
      "hello, my name is sam\r\n",
      "hello, my name is hoplin\r\n",
      "hello, my name is smith\r\n",
      "hello, my name is edward\r\n"
     ]
    }
   ],
   "source": [
    "!python3 argument_example/example5.py 'alice' 'sam' 'hoplin' 'smith' 'edward'"
   ]
  },
  {
   "cell_type": "markdown",
   "id": "b3410205",
   "metadata": {},
   "source": [
    "- 여기서 하나 더 생각할 수 있는것은 `sys.argv`는 `list`타입이므로 `slice`가 가능하다는 것이다. 그렇다면 `slice`를 어떻게 활용할 수 있을까? 우선 우리가 argument를 받을때 0번째 index는 필요 없다. 이유는 위 예시에서도 볼 수 있듯이 파일 명을 의미하기 때문이다. 그렇기 때문에, 시작할 때 sys.argv를 1번째 index부터 슬라이싱 한거로 치환해줄 수 도 있다.\n",
    "<br>\n",
    "- 예시코드로 정해지지 않은 여러개의 argument를 받는 코드라고 가정을 해보자. 우리가 유의해야할 점은, 여러개의 argument를 받는 코드이므로, `sys.argv`는 최소 두개 이상의 원소를 가지고 있어야 한다. 그럼 아래와 같이 작성해볼 수 있다.\n",
    "\n",
    "```python\n",
    "import sys\n",
    "\n",
    "if len(sys.argv) < 2:\n",
    "    sys.exit(\"Too few arguments\")\n",
    "\n",
    "for arg in sys.argv[1:]:\n",
    "    print(\"hello, my name is\", arg)\n",
    "```"
   ]
  },
  {
   "cell_type": "code",
   "execution_count": 22,
   "id": "bcbf1158",
   "metadata": {},
   "outputs": [
    {
     "name": "stdout",
     "output_type": "stream",
     "text": [
      "hello, my name is alice\r\n",
      "hello, my name is sam\r\n",
      "hello, my name is hoplin\r\n",
      "hello, my name is smith\r\n",
      "hello, my name is edward\r\n"
     ]
    }
   ],
   "source": [
    "!python3 argument_example/example6.py 'alice' 'sam' 'hoplin' 'smith' 'edward'"
   ]
  },
  {
   "cell_type": "markdown",
   "id": "740c3b5e",
   "metadata": {},
   "source": [
    "- 조금 더 응용해 보면 아래와 같이 작성해 줄 수 도 있다.\n",
    "\n",
    "```python\n",
    "import sys\n",
    "\n",
    "try:\n",
    "    if len(sys.argv) < 2:\n",
    "        raise Exception(\"Argument count should be more than 1\")\n",
    "except Exception as e:\n",
    "    print(e.args[0])\n",
    "\n",
    "# 0번째 index를 제외한 나머지로 대체한다\n",
    "sys.argv = sys.argv[1:]\n",
    "for i,j in enumerate(sys.argv,start=1):\n",
    "    print(f\"Argument {i} : {j}\")\n",
    "```"
   ]
  },
  {
   "cell_type": "code",
   "execution_count": 23,
   "id": "456c49b0",
   "metadata": {},
   "outputs": [
    {
     "name": "stdout",
     "output_type": "stream",
     "text": [
      "Argument 1 : alice\r\n",
      "Argument 2 : sam\r\n",
      "Argument 3 : hoplin\r\n",
      "Argument 4 : smith\r\n",
      "Argument 5 : edward\r\n"
     ]
    }
   ],
   "source": [
    "!python3 argument_example/example7.py 'alice' 'sam' 'hoplin' 'smith' 'edward'"
   ]
  },
  {
   "cell_type": "markdown",
   "id": "00fa277c",
   "metadata": {},
   "source": [
    " "
   ]
  },
  {
   "cell_type": "markdown",
   "id": "1bf988ff",
   "metadata": {},
   "source": [
    "## Packages\n",
    "\n",
    "- Python이 유명하고, 많이 사용되는 이유중 하나는 강력한 third-party 라이브러리들이 많이 존재하기 때문이고, 이는 `packages`라는 형태로 제공이 되고, 이는 폴더 형태로 제공이 된다.\n",
    "- 이러한 패키지들은 [PyPI](https://pypi.org/)라는 디렉토리에서 설치가 가능하다. 직접 들어가서 찾을 필요없이 python이 설치될때 같이 다운로드되는 `pip`라는걸 사용해서 설치해줄 수 있다.\n",
    "- 한번 `cowsay`라는 패키지를 설치해보자."
   ]
  },
  {
   "cell_type": "code",
   "execution_count": 24,
   "id": "11887ec9",
   "metadata": {},
   "outputs": [
    {
     "name": "stdout",
     "output_type": "stream",
     "text": [
      "Requirement already satisfied: cowsay in /opt/homebrew/lib/python3.9/site-packages (5.0)\n",
      "\n",
      "\u001b[1m[\u001b[0m\u001b[34;49mnotice\u001b[0m\u001b[1;39;49m]\u001b[0m\u001b[39;49m A new release of pip available: \u001b[0m\u001b[31;49m22.2.1\u001b[0m\u001b[39;49m -> \u001b[0m\u001b[32;49m22.2.2\u001b[0m\n",
      "\u001b[1m[\u001b[0m\u001b[34;49mnotice\u001b[0m\u001b[1;39;49m]\u001b[0m\u001b[39;49m To update, run: \u001b[0m\u001b[32;49mpython3.9 -m pip install --upgrade pip\u001b[0m\n"
     ]
    }
   ],
   "source": [
    "!pip3 install cowsay"
   ]
  },
  {
   "cell_type": "markdown",
   "id": "aad0a8fa",
   "metadata": {},
   "source": [
    "- 이제 cowsay를 사용하여 소가 인사하는 간단한 코드를 작성해 보자. 코드는 아래와 같다\n",
    "\n",
    "```python\n",
    "import cowsay\n",
    "import sys\n",
    "\n",
    "if len(sys.argv) == 2:\n",
    "    cowsay.cow(\"hello, \" + sys.argv[1])\n",
    "```"
   ]
  },
  {
   "cell_type": "code",
   "execution_count": 25,
   "id": "d3b65d14",
   "metadata": {},
   "outputs": [
    {
     "name": "stdout",
     "output_type": "stream",
     "text": [
      "  _____________\r\n",
      "| hello, hoplin |\r\n",
      "  =============\r\n",
      "             \\\r\n",
      "              \\\r\n",
      "                ^__^\r\n",
      "                (oo)\\_______\r\n",
      "                (__)\\       )\\/\\\r\n",
      "                    ||----w |\r\n",
      "                    ||     ||\r\n"
     ]
    }
   ],
   "source": [
    "!python3 argument_example/say.py hoplin"
   ]
  },
  {
   "cell_type": "markdown",
   "id": "9ae3c19e",
   "metadata": {},
   "source": [
    "## APIs\n",
    "\n",
    "- API는 \"Application Program Interace\"의 약자이다. API는 다른 사람의 코드에 접속하여, 해당 코드로부터 결과값을 돌려받을 수 있다.\n",
    "- `requests`패키지를 사용하면, 코드가 웹 브라우저처럼 동작할 수 있도록 도와준다\n",
    "- 우선 `requests`를 설치해준다. PyPI에서 requests를 검색해보자 (https://pypi.org/project/requests/)\n",
    "- `pip`를 사용해서 `requests`를 설치해준다"
   ]
  },
  {
   "cell_type": "code",
   "execution_count": 26,
   "id": "43518c50",
   "metadata": {},
   "outputs": [
    {
     "name": "stdout",
     "output_type": "stream",
     "text": [
      "Requirement already satisfied: requests in /opt/homebrew/lib/python3.9/site-packages (2.26.0)\n",
      "Requirement already satisfied: idna<4,>=2.5 in /opt/homebrew/lib/python3.9/site-packages (from requests) (3.3)\n",
      "Requirement already satisfied: charset-normalizer~=2.0.0 in /opt/homebrew/lib/python3.9/site-packages (from requests) (2.0.9)\n",
      "Requirement already satisfied: urllib3<1.27,>=1.21.1 in /opt/homebrew/lib/python3.9/site-packages (from requests) (1.26.7)\n",
      "Requirement already satisfied: certifi>=2017.4.17 in /opt/homebrew/lib/python3.9/site-packages (from requests) (2021.10.8)\n",
      "\n",
      "\u001b[1m[\u001b[0m\u001b[34;49mnotice\u001b[0m\u001b[1;39;49m]\u001b[0m\u001b[39;49m A new release of pip available: \u001b[0m\u001b[31;49m22.2.1\u001b[0m\u001b[39;49m -> \u001b[0m\u001b[32;49m22.2.2\u001b[0m\n",
      "\u001b[1m[\u001b[0m\u001b[34;49mnotice\u001b[0m\u001b[1;39;49m]\u001b[0m\u001b[39;49m To update, run: \u001b[0m\u001b[32;49mpython3.9 -m pip install --upgrade pip\u001b[0m\n"
     ]
    }
   ],
   "source": [
    "!pip3 install requests"
   ]
  },
  {
   "cell_type": "markdown",
   "id": "cc67e157",
   "metadata": {},
   "source": [
    "### 예시코드 작성\n",
    "\n",
    "- Apple Itunes는 `https://itunes.apple.com/search?entity={}&limit={}&term={}`라는 endpoint를 가진 링크를 통해서 정보를 가져올 수 있다. `Query String`을 살펴보면 `entity`,`limit`,`term` 세가지 매개변수를 받는것을 볼 수 있다. 여기서는 `entity`는, song `limit`은 1 `term`으로는 weezer로 해서 크롬 URL창에서 들어가보자. 그러면 아래와 같은 텍스트 파일이 다운로드 받아지는것을 볼 수 있다\n",
    "\n",
    "~~~\n",
    "{\n",
    " \"resultCount\":1,\n",
    " \"results\": [\n",
    "{\"wrapperType\":\"track\", \"kind\":\"song\", \"artistId\":115234, \"collectionId\":1440878798, \"trackId\":1440879551, \"artistName\":\"Weezer\", \"collectionName\":\"Weezer\", \"trackName\":\"Say It Ain't So\", \"collectionCensoredName\":\"Weezer\", \"trackCensoredName\":\"Say It Ain't So\", \"artistViewUrl\":\"https://music.apple.com/us/artist/weezer/115234?uo=4\", \"collectionViewUrl\":\"https://music.apple.com/us/album/say-it-aint-so/1440878798?i=1440879551&uo=4\", \"trackViewUrl\":\"https://music.apple.com/us/album/say-it-aint-so/1440878798?i=1440879551&uo=4\", \n",
    "\"previewUrl\":\"https://audio-ssl.itunes.apple.com/itunes-assets/AudioPreview122/v4/5c/07/84/5c078405-d5db-0762-d346-0f6ae3ccb530/mzaf_5370611585102254803.plus.aac.p.m4a\", \"artworkUrl30\":\"https://is2-ssl.mzstatic.com/image/thumb/Music125/v4/fc/74/67/fc74674a-1eb0-d50d-33fe-215caee529d1/16UMGIM52971.rgb.jpg/30x30bb.jpg\", \"artworkUrl60\":\"https://is2-ssl.mzstatic.com/image/thumb/Music125/v4/fc/74/67/fc74674a-1eb0-d50d-33fe-215caee529d1/16UMGIM52971.rgb.jpg/60x60bb.jpg\", \"artworkUrl100\":\"https://is2-ssl.mzstatic.com/image/thumb/Music125/v4/fc/74/67/fc74674a-1eb0-d50d-33fe-215caee529d1/16UMGIM52971.rgb.jpg/100x100bb.jpg\", \"collectionPrice\":10.99, \"trackPrice\":1.29, \"releaseDate\":\"1994-05-10T12:00:00Z\", \"collectionExplicitness\":\"notExplicit\", \"trackExplicitness\":\"notExplicit\", \"discCount\":1, \"discNumber\":1, \"trackCount\":10, \"trackNumber\":7, \"trackTimeMillis\":258853, \"country\":\"USA\", \"currency\":\"USD\", \"primaryGenreName\":\"Rock\", \"isStreamable\":true}]\n",
    "}\n",
    "~~~\n",
    "\n",
    "- 뭔가 생긴것이 딕셔너리와 비슷하다. 하지만 딕셔너리 타입은 아니다. 웹에서 이러한 형태로 데이터를 주고 받는 경우가 많다. 이러한 형태를 JSON(JavasScript Object Notation) 포맷이라고 부른다. 기존에는 XML(eXtensible Markup Language)를 썼지만, 무겁고, 파싱하기 어렵다는 문제로 JSON으로 대부분 대체되었다\n",
    "- 단순히 데이터를 read 하기 위해서는 `HTTP Method`중 `GET`메소드를 사용해서 결과를 받아올 수 있다.그리고 `.json()`을 사용해서 request객체에서 json()만 추출할 수 있다\n",
    "- 위에서 활용한 `sys.argv`를 활용해서 예시코드를 작성해보자"
   ]
  },
  {
   "cell_type": "code",
   "execution_count": 27,
   "id": "e5e7b88f",
   "metadata": {},
   "outputs": [
    {
     "data": {
      "text/plain": [
       "<Response [200]>"
      ]
     },
     "execution_count": 27,
     "metadata": {},
     "output_type": "execute_result"
    }
   ],
   "source": [
    "import requests\n",
    "\n",
    "# Response객체가 출력되는것을 볼 수 있다\n",
    "res = requests.get('https://itunes.apple.com/search?entity=song&limit=1&term=weezer')\n",
    "res"
   ]
  },
  {
   "cell_type": "markdown",
   "id": "618552b5",
   "metadata": {},
   "source": [
    "- 예제코드를 아래와 같이 작성했다고 가정하자\n",
    "\n",
    "```python\n",
    "import requests\n",
    "import sys\n",
    "\n",
    "if len(sys.argv) != 2:\n",
    "    sys.exit()\n",
    "\n",
    "response = requests.get(\"https://itunes.apple.com/search?entity=song&limit=1&term=\" + sys.argv[1])\n",
    "\n",
    "print(response.json())\n",
    "\n",
    "print(type(response.json()))\n",
    "```"
   ]
  },
  {
   "cell_type": "code",
   "execution_count": 28,
   "id": "84b48137",
   "metadata": {},
   "outputs": [
    {
     "name": "stdout",
     "output_type": "stream",
     "text": [
      "{'resultCount': 1, 'results': [{'wrapperType': 'track', 'kind': 'song', 'artistId': 115234, 'collectionId': 1440878798, 'trackId': 1440879551, 'artistName': 'Weezer', 'collectionName': 'Weezer', 'trackName': \"Say It Ain't So\", 'collectionCensoredName': 'Weezer', 'trackCensoredName': \"Say It Ain't So\", 'artistViewUrl': 'https://music.apple.com/us/artist/weezer/115234?uo=4', 'collectionViewUrl': 'https://music.apple.com/us/album/say-it-aint-so/1440878798?i=1440879551&uo=4', 'trackViewUrl': 'https://music.apple.com/us/album/say-it-aint-so/1440878798?i=1440879551&uo=4', 'previewUrl': 'https://audio-ssl.itunes.apple.com/itunes-assets/AudioPreview122/v4/5c/07/84/5c078405-d5db-0762-d346-0f6ae3ccb530/mzaf_5370611585102254803.plus.aac.p.m4a', 'artworkUrl30': 'https://is2-ssl.mzstatic.com/image/thumb/Music125/v4/fc/74/67/fc74674a-1eb0-d50d-33fe-215caee529d1/16UMGIM52971.rgb.jpg/30x30bb.jpg', 'artworkUrl60': 'https://is2-ssl.mzstatic.com/image/thumb/Music125/v4/fc/74/67/fc74674a-1eb0-d50d-33fe-215caee529d1/16UMGIM52971.rgb.jpg/60x60bb.jpg', 'artworkUrl100': 'https://is2-ssl.mzstatic.com/image/thumb/Music125/v4/fc/74/67/fc74674a-1eb0-d50d-33fe-215caee529d1/16UMGIM52971.rgb.jpg/100x100bb.jpg', 'collectionPrice': 10.99, 'trackPrice': 1.29, 'releaseDate': '1994-05-10T12:00:00Z', 'collectionExplicitness': 'notExplicit', 'trackExplicitness': 'notExplicit', 'discCount': 1, 'discNumber': 1, 'trackCount': 10, 'trackNumber': 7, 'trackTimeMillis': 258853, 'country': 'USA', 'currency': 'USD', 'primaryGenreName': 'Rock', 'isStreamable': True}]}\r\n",
      "<class 'dict'>\r\n"
     ]
    }
   ],
   "source": [
    "!python3 argument_example/itunes.py weezer"
   ]
  },
  {
   "cell_type": "markdown",
   "id": "5581c61a",
   "metadata": {},
   "source": [
    "- 위 결과에서도 볼 수 있듯이, `response`객체에 대해 `.json()`으로 불러온 값은 `dictionary`자료구조로 불러와지는것을 볼 수 있다.그렇기 때문에 일반적인 딕셔너리에서 값을 가져오듯이 가져올 수 있다. 여기서는 trackName을 한번 불러와보자. 대신 `limit`을 50으로 변경하여 총 50개의 검색결과에 대해서 검색후, 각 검색 내용에서의 trackName을 출력해보자\n",
    "\n",
    "```python\n",
    "import json\n",
    "import requests\n",
    "import sys\n",
    "\n",
    "if len(sys.argv) != 2:\n",
    "    sys.exit()\n",
    "\n",
    "response = requests.get(\"https://itunes.apple.com/search?entity=song&limit=50&term=\" + sys.argv[1])\n",
    "\n",
    "o = response.json()\n",
    "for result in o[\"results\"]:\n",
    "    print(result[\"trackName\"])\n",
    "```"
   ]
  },
  {
   "cell_type": "code",
   "execution_count": 29,
   "id": "01ea9e5c",
   "metadata": {},
   "outputs": [
    {
     "name": "stdout",
     "output_type": "stream",
     "text": [
      "Say It Ain't So\r\n",
      "Buddy Holly\r\n",
      "Undone - The Sweater Song\r\n",
      "My Name Is Jonas\r\n",
      "Holiday\r\n",
      "Surf Wax America\r\n",
      "The World Has Turned and Left Me Here\r\n",
      "Only in Dreams\r\n",
      "In the Garage\r\n",
      "No One Else\r\n",
      "Say It Ain't So\r\n",
      "Buddy Holly\r\n",
      "Undone - The Sweater Song\r\n",
      "Susanne\r\n",
      "Say It Ain't So\r\n",
      "My Name Is Jonas\r\n",
      "Island In the Sun\r\n",
      "Jamie\r\n",
      "No One Else\r\n",
      "Jamie\r\n",
      "In the Garage\r\n",
      "Mykel and Carli\r\n",
      "The World Has Turned and Left Me Here\r\n",
      "Undone -- The Sweater Song\r\n",
      "Paperface\r\n",
      "Lullabye For Wayne\r\n",
      "Surf Wax America\r\n",
      "My Evaline\r\n",
      "My Name Is Jonas\r\n",
      "Surf Wax America\r\n",
      "I Swear It's True\r\n",
      "Only In Dreams\r\n",
      "No One Else\r\n",
      "Weezer\r\n",
      "Pork and Beans\r\n",
      "Hash Pipe\r\n",
      "Africa\r\n",
      "Troublemaker\r\n",
      "Lost in the Woods\r\n",
      "Only In Dreams\r\n",
      "Holiday\r\n",
      "The Greatest Man That Ever Lived (Variations On a Shaker Hymn)\r\n",
      "Pork and Beans\r\n",
      "Photograph\r\n",
      "Beverly Hills\r\n",
      "Take on Me\r\n",
      "Thank God for Girls\r\n",
      "Heart Songs\r\n",
      "Everybody Wants to Rule the World\r\n",
      "Everybody Get Dangerous\r\n"
     ]
    }
   ],
   "source": [
    "!python3 argument_example/itunes4.py weezer"
   ]
  },
  {
   "cell_type": "markdown",
   "id": "0991e67f",
   "metadata": {},
   "source": [
    "- `.json()`으로 json값을 가져오면, 이는 파이썬 딕셔너리 타입으로 값을 불러오게 된다. python의 `json`내장 모듈의 `.dumps()`메소드는 `indent`속성을 활용하여, 가독성이 좋게끔 json포맷으로 변경하여 출력하게 해준다. 아래와 같이 예제코드를 작성하고 실행해보자. 하지만 주의할 점은 `json.dumps()`는 `str`타입이라는 것이다.\n",
    "\n",
    "```python\n",
    "import json\n",
    "import requests\n",
    "import sys\n",
    "\n",
    "if len(sys.argv) != 2:\n",
    "    sys.exit()\n",
    "\n",
    "response = requests.get(\"https://itunes.apple.com/search?entity=song&limit=1&term=\" + sys.argv[1])\n",
    "j = json.dumps(response.json(), indent=4)\n",
    "print(j)\n",
    "print(type(j))\n",
    "```"
   ]
  },
  {
   "cell_type": "code",
   "execution_count": 30,
   "id": "bd6ee414",
   "metadata": {},
   "outputs": [
    {
     "name": "stdout",
     "output_type": "stream",
     "text": [
      "{\r\n",
      "    \"resultCount\": 1,\r\n",
      "    \"results\": [\r\n",
      "        {\r\n",
      "            \"wrapperType\": \"track\",\r\n",
      "            \"kind\": \"song\",\r\n",
      "            \"artistId\": 115234,\r\n",
      "            \"collectionId\": 1440878798,\r\n",
      "            \"trackId\": 1440879551,\r\n",
      "            \"artistName\": \"Weezer\",\r\n",
      "            \"collectionName\": \"Weezer\",\r\n",
      "            \"trackName\": \"Say It Ain't So\",\r\n",
      "            \"collectionCensoredName\": \"Weezer\",\r\n",
      "            \"trackCensoredName\": \"Say It Ain't So\",\r\n",
      "            \"artistViewUrl\": \"https://music.apple.com/us/artist/weezer/115234?uo=4\",\r\n",
      "            \"collectionViewUrl\": \"https://music.apple.com/us/album/say-it-aint-so/1440878798?i=1440879551&uo=4\",\r\n",
      "            \"trackViewUrl\": \"https://music.apple.com/us/album/say-it-aint-so/1440878798?i=1440879551&uo=4\",\r\n",
      "            \"previewUrl\": \"https://audio-ssl.itunes.apple.com/itunes-assets/AudioPreview122/v4/5c/07/84/5c078405-d5db-0762-d346-0f6ae3ccb530/mzaf_5370611585102254803.plus.aac.p.m4a\",\r\n",
      "            \"artworkUrl30\": \"https://is2-ssl.mzstatic.com/image/thumb/Music125/v4/fc/74/67/fc74674a-1eb0-d50d-33fe-215caee529d1/16UMGIM52971.rgb.jpg/30x30bb.jpg\",\r\n",
      "            \"artworkUrl60\": \"https://is2-ssl.mzstatic.com/image/thumb/Music125/v4/fc/74/67/fc74674a-1eb0-d50d-33fe-215caee529d1/16UMGIM52971.rgb.jpg/60x60bb.jpg\",\r\n",
      "            \"artworkUrl100\": \"https://is2-ssl.mzstatic.com/image/thumb/Music125/v4/fc/74/67/fc74674a-1eb0-d50d-33fe-215caee529d1/16UMGIM52971.rgb.jpg/100x100bb.jpg\",\r\n",
      "            \"collectionPrice\": 10.99,\r\n",
      "            \"trackPrice\": 1.29,\r\n",
      "            \"releaseDate\": \"1994-05-10T12:00:00Z\",\r\n",
      "            \"collectionExplicitness\": \"notExplicit\",\r\n",
      "            \"trackExplicitness\": \"notExplicit\",\r\n",
      "            \"discCount\": 1,\r\n",
      "            \"discNumber\": 1,\r\n",
      "            \"trackCount\": 10,\r\n",
      "            \"trackNumber\": 7,\r\n",
      "            \"trackTimeMillis\": 258853,\r\n",
      "            \"country\": \"USA\",\r\n",
      "            \"currency\": \"USD\",\r\n",
      "            \"primaryGenreName\": \"Rock\",\r\n",
      "            \"isStreamable\": true\r\n",
      "        }\r\n",
      "    ]\r\n",
      "}\r\n",
      "<class 'str'>\r\n"
     ]
    }
   ],
   "source": [
    "!python3 argument_example/itunes2.py weezer"
   ]
  },
  {
   "cell_type": "markdown",
   "id": "148b152d",
   "metadata": {},
   "source": [
    "- 조금 더 응용하여 `json.dumps()`를 활용하여 `json`파일로 저장할 수 있다.\n",
    "\n",
    "```python\n",
    "import json\n",
    "import requests\n",
    "import sys\n",
    "\n",
    "if len(sys.argv) != 2:\n",
    "    sys.exit()\n",
    "\n",
    "response = requests.get(\"https://itunes.apple.com/search?entity=song&limit=1&term=\" + sys.argv[1])\n",
    "\n",
    "with open('./itune.json','w') as j:\n",
    "    j.write(json.dumps(response.json(), indent=4))\n",
    "    j.close()\n",
    "\n",
    "```"
   ]
  },
  {
   "cell_type": "code",
   "execution_count": 31,
   "id": "06876efe",
   "metadata": {},
   "outputs": [],
   "source": [
    "!python3 argument_example/itunes3.py weezer"
   ]
  },
  {
   "cell_type": "code",
   "execution_count": 32,
   "id": "daf2250d",
   "metadata": {},
   "outputs": [
    {
     "name": "stdout",
     "output_type": "stream",
     "text": [
      "Homework #1-1.ipynb\r\n",
      "Homework #1-1_윤준호_B889047.pdf\r\n",
      "\u001b[1m\u001b[36margument_example\u001b[m\u001b[m\r\n",
      "itune.json\r\n"
     ]
    }
   ],
   "source": [
    "!ls"
   ]
  },
  {
   "cell_type": "markdown",
   "id": "2a00fd3b",
   "metadata": {},
   "source": [
    "- json파일이 잘 저장된것을 볼 수 있다."
   ]
  },
  {
   "cell_type": "markdown",
   "id": "01488513",
   "metadata": {},
   "source": [
    "## Making your own libraries\n",
    "\n",
    "- 나만의 라이브러리를 만들어서 사용해 보자. 간단하게 `saying.py`라는 파일에 아래 두 함수를 작성해보자.\n",
    "\n",
    "```python\n",
    "def hello(name):\n",
    "    print(f\"hello, {name}\")\n",
    "\n",
    "\n",
    "def goodbye(name):\n",
    "    print(f\"goodbye, {name}\")\n",
    "```\n",
    "\n",
    "- 이제 자신이 작성한 라이브러리를 import한 후, 함수 매개변수를 넘길때 argument로 받은값으로 넘길 수 있게끔 작성해보자.\n",
    "\n",
    "```python\n",
    "import sys\n",
    "\n",
    "from saying import *\n",
    "\n",
    "if len(sys.argv) == 2:\n",
    "    hello(sys.argv[1])\n",
    "    goodbye(sys.argv[1])\n",
    "```"
   ]
  },
  {
   "cell_type": "code",
   "execution_count": 33,
   "id": "22c0e881",
   "metadata": {},
   "outputs": [
    {
     "name": "stdout",
     "output_type": "stream",
     "text": [
      "hello, hoplin\r\n",
      "goodbye, hoplin\r\n"
     ]
    }
   ],
   "source": [
    "!python3 argument_example/library_test.py hoplin"
   ]
  }
 ],
 "metadata": {
  "kernelspec": {
   "display_name": "Python 3 (ipykernel)",
   "language": "python",
   "name": "python3"
  },
  "language_info": {
   "codemirror_mode": {
    "name": "ipython",
    "version": 3
   },
   "file_extension": ".py",
   "mimetype": "text/x-python",
   "name": "python",
   "nbconvert_exporter": "python",
   "pygments_lexer": "ipython3",
   "version": "3.9.13"
  }
 },
 "nbformat": 4,
 "nbformat_minor": 5
}
