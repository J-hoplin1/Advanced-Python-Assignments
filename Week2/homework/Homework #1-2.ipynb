{
 "cells": [
  {
   "cell_type": "markdown",
   "id": "149576e6",
   "metadata": {},
   "source": [
    "## Week 2 Homework \\#1-2 Report\n",
    "***\n",
    "- 작성자 : B889047 윤준호\n",
    "- 작성일 : 2022 / 09 / 19, Mon"
   ]
  },
  {
   "cell_type": "markdown",
   "id": "f36746dd",
   "metadata": {},
   "source": [
    "### Python: Function, Modules, Lists\n",
    "\n",
    "Use Python Tutor (http://cs1110.cs.cornell.edu/tutor) to answer and catch important snapshots for each problem along with you answers."
   ]
  },
  {
   "cell_type": "markdown",
   "id": "50d38a4c",
   "metadata": {},
   "source": [
    "# 문제 #0: (함수를 함수의 인자로 넘기기)\n",
    "```python\n",
    "\n",
    "def func_a():\n",
    "    print('inside func_a')\n",
    "def func_b(y): \n",
    "    print('inside func_b') return y\n",
    "def func_c(z): \n",
    "    print('inside func_c') return z()\n",
    "print(func_a()) \n",
    "print(5 + func_b(2))\n",
    "print(func_c(func_a))\n",
    "```"
   ]
  },
  {
   "cell_type": "markdown",
   "id": "78a09929",
   "metadata": {},
   "source": [
    "<img src=\"hw1_2img/hw0_1.png\" width=\"600px\" height=\"500px\"/>"
   ]
  },
  {
   "cell_type": "markdown",
   "id": "288a400d",
   "metadata": {},
   "source": [
    "<img src=\"hw1_2img/hw0_2.png\" width=\"600px\" height=\"500px\"/>"
   ]
  },
  {
   "cell_type": "markdown",
   "id": "1fc92ea4",
   "metadata": {},
   "source": [
    "<img src=\"hw1_2img/hw0_3.png\" width=\"600px\" height=\"500px\"/>"
   ]
  },
  {
   "cell_type": "markdown",
   "id": "7c292efa",
   "metadata": {},
   "source": [
    "# 문제 #1: (함수에서 변수의 영역 문제: 기본 개념) a)\n",
    "```python\n",
    "#a)\n",
    "def f(y): \n",
    "    x= 1\n",
    "    x += 1 \n",
    "    print(x)\n",
    "x= 5 \n",
    "f(x) \n",
    "print(x)\n",
    "\n",
    "#b)\n",
    "def g(y): \n",
    "    print(x)\n",
    "    print(x+1) \n",
    "x= 5\n",
    "g(x) \n",
    "print(x)\n",
    "\n",
    "#c)\n",
    "def h(y):\n",
    "    x= x+ 1\n",
    "x= 5 \n",
    "h(x) \n",
    "print(x)\n",
    "```"
   ]
  },
  {
   "cell_type": "markdown",
   "id": "03705c77",
   "metadata": {},
   "source": [
    "## a)\n",
    "\n",
    "<img src=\"hw1_2img/hw1_1.png\" width=\"600px\" height=\"500px\"/>\n",
    "<img src=\"hw1_2img/hw1_2.png\" width=\"600px\" height=\"500px\"/>"
   ]
  },
  {
   "cell_type": "markdown",
   "id": "6d2a41c4",
   "metadata": {},
   "source": [
    "## b)\n",
    "<img src=\"hw1_2img/hw1_3.png\" width=\"600px\" height=\"500px\"/>\n",
    "<img src=\"hw1_2img/hw1_4.png\" width=\"600px\" height=\"500px\"/>\n",
    "<img src=\"hw1_2img/hw1_5.png\" width=\"600px\" height=\"500px\"/>"
   ]
  },
  {
   "cell_type": "markdown",
   "id": "82a4998f",
   "metadata": {},
   "source": [
    "## c) \n",
    "\n",
    "<img src=\"hw1_2img/hw1_6.png\" width=\"600px\" height=\"500px\"/>"
   ]
  },
  {
   "cell_type": "markdown",
   "id": "d713703a",
   "metadata": {},
   "source": [
    "# 문제 #2: (람다 함수에서 변수의 영역 문제)\n",
    "아래 코드가 수행된 결과값과 값의 타입을 말하라. 혹은 에러가 발생한다면 이유 는 무엇인가?\n",
    "```python\n",
    "#a)\n",
    "FT= lambda y: x + y \n",
    "x = 11\n",
    "def A(z,p):\n",
    "    p = 200\n",
    "    return (z(x)+p) \n",
    "def B(z, p):\n",
    "    x = 1000 \n",
    "    return(z(x)+x)\n",
    "print(A(FT, 10)) \n",
    "x = 30 \n",
    "print(B(FT, 20))\n",
    "\n",
    "#b)\n",
    "def ft (f,x): \n",
    "    y =4\n",
    "    return f(x)\n",
    "y =3\n",
    "ft(lambda x: x * y,2)\n",
    "```\n",
    "\n"
   ]
  },
  {
   "cell_type": "markdown",
   "id": "5c3c5c36",
   "metadata": {},
   "source": [
    "## a)\n",
    "\n",
    "<img src=\"hw1_2img/hw2_1.png\" width=\"600px\" height=\"500px\"/>\n",
    "<img src=\"hw1_2img/hw2_2.png\" width=\"600px\" height=\"500px\"/>\n",
    "\n",
    "A : A와 B모두 int형 값이 반환된다"
   ]
  },
  {
   "cell_type": "markdown",
   "id": "c87f32ee",
   "metadata": {},
   "source": [
    "## b)\n",
    "\n",
    "<img src=\"hw1_2img/hw2_3.png\" width=\"600px\" height=\"500px\"/>\n",
    "A : ft() 반환값은 int형이 반환된다. 다만 주의할 점은, ft()에 넘겨주는 lambda함수는 ft()함수의 스코프 밖에 있으므로, ft()내부의 y가 아닌 global영역의 y를 참고하게 된다"
   ]
  },
  {
   "attachments": {},
   "cell_type": "markdown",
   "id": "86fa8d88",
   "metadata": {},
   "source": [
    "# 문제 #3: (함수에서 변수의 영역 문제)\n",
    "아래 코드의 수행된 결과값과 값의 타입을 말하라. 혹은 에러가 발생하는가?\n",
    "```python\n",
    "x =7\n",
    "def foo(x, y = 5):\n",
    "    x=7\n",
    "    def bar(x):\n",
    "        return x+1 \n",
    "    return bar(y * 2)\n",
    "foo(2,1) \n",
    "bar(3)\n",
    "```\n",
    "\n",
    "A : 결론은 에러가 발생한다.`foo(2,1)`은 int형이 반환이 되지만, bar(3)같은 경우에는 foo()함수 스코프 내부에 있는함수이므로, global스코프에서 접근이 불가능하다.\n"
   ]
  },
  {
   "cell_type": "markdown",
   "id": "f3ed13a0",
   "metadata": {},
   "source": [
    "<img src=\"hw1_2img/hw3_1.png\" width=\"600px\" height=\"500px\"/>\n",
    "<img src=\"hw1_2img/hw3_2.png\" width=\"600px\" height=\"500px\"/>\n",
    "<img src=\"hw1_2img/hw3_3.png\" width=\"600px\" height=\"500px\"/>"
   ]
  },
  {
   "cell_type": "markdown",
   "id": "e22dbc92",
   "metadata": {},
   "source": [
    "# 문제 #4: (Python List Handling)\n",
    "아래 문제는 리스트 L1의 원소 중에 L2에 있는 원소들은 L1에서 제거하는 코드를 작성 하는 것에 관한 것이다.\n",
    "예시:\n",
    "```bash\n",
    "> L1 = [1, 2, 3, 4]\n",
    "> L2 = [1, 2, 5, 6]\n",
    "> remove_dups(L1, L2) \n",
    "> print(L1)\n",
    "[3,4]\n",
    "```\n",
    "Q : A. 아래 구현된 코드는 우리가 원하는 기능을 수행하는가? 수행 결과는 무엇이며, 이유를 설명하라.\n",
    "```python\n",
    "def remove_dups(L1, L2): \n",
    "    for e in L1:\n",
    "        if e in L2: \n",
    "            L1.remove(e)\n",
    "```\n",
    "\n",
    "A : 작동하지 않는다. 기본적으로 remove()는 실행되는 시퀸스의 원본 값을 변경하는 방식으로 작동이 된다. 그리고 리스트는 이터레이터라는것을 기반으로 만들어지며, for문으로 순회를 하면, 하나의 원소씩 다음 index의 값을 반환하게 된다. 그렇기 때문에 첫번째 순회에서 1이 없어지고 나서 index 1번을 반환해야 하지만, 2가 아닌 3을 선택해서 반환하게 된다. 그렇기 때문에, 2는 제거되지 못하는 현상이 발생하게 되는것이다.\n",
    "\n",
    "<img src=\"hw1_2img/hw4.png\" width=\"600px\" height=\"500px\"/>\n",
    "\n",
    "B. A에 주어진 코드를 수정하여 원래 문제에서 주어진 기능을(공통원소제거) 수행하는 코드를 작성해 보라."
   ]
  },
  {
   "cell_type": "code",
   "execution_count": 1,
   "id": "c155f6cb",
   "metadata": {},
   "outputs": [
    {
     "name": "stdout",
     "output_type": "stream",
     "text": [
      "[3, 4]\n",
      "[3, 4]\n",
      "[3, 4]\n"
     ]
    }
   ],
   "source": [
    "# B - Solution 1\n",
    "def remove_dups(L1, L2):\n",
    "    for e in L1[:]:\n",
    "        if e in L2:\n",
    "            L1.remove(e)\n",
    "\n",
    "L1 = [1, 2, 3, 4]\n",
    "L2 = [1, 2, 5, 6]\n",
    "remove_dups(L1,L2)\n",
    "print(L1)\n",
    "\n",
    "# B - Solution 2\n",
    "def remove_dups(L1, L2):\n",
    "    return list(filter(lambda x: x not in L2, L1))\n",
    "\n",
    "L1 = [1, 2, 3, 4]\n",
    "L2 = [1, 2, 5, 6]\n",
    "L1 = remove_dups(L1,L2)\n",
    "print(L1)\n",
    "\n",
    "# B - Solution 3\n",
    "def remove_dups(L1, L2):\n",
    "    return [ i for i in L1 if i not in L2 ]\n",
    "\n",
    "L1 = [1, 2, 3, 4]\n",
    "L2 = [1, 2, 5, 6]\n",
    "L1 = remove_dups(L1,L2)\n",
    "print(L1)"
   ]
  },
  {
   "cell_type": "markdown",
   "id": "2a19371a",
   "metadata": {},
   "source": [
    "# 문제 #5: (Python Basics)\n",
    "코드 1과 2 중 아래 주어진 코드와 같은 기능을 수행하는 코드는 어느 것인가? 세 코드 의 기능을 각각 말하라.\n",
    "\n",
    "주어진 코드: while 루프안에 for 문이 있다.\n",
    "```python\n",
    "iteration = 0\n",
    "count = 0\n",
    "while iteration < 3:\n",
    "    for letter in \"hello, world\": \n",
    "        count += 1\n",
    "    print(\"Iteration \" + str(iteration) + \"; count is: \" + str(count)) \n",
    "    iteration += 1\n",
    "```\n",
    "***\n",
    "```python\n",
    "# 코드 1\n",
    "for iteration in range(3): \n",
    "    count = 0\n",
    "    while True:\n",
    "        for letter in \"hello, world\":\n",
    "            count += 1\n",
    "        print(\"Iteration \" + str(iteration) + \"; count is: \" + str(count)) \n",
    "        break\n",
    "# 코드 2\n",
    "count = 0\n",
    "phrase = \"hello, world\" \n",
    "\n",
    "for iteration in range(3):\n",
    "    while True:\n",
    "        count += len(phrase)\n",
    "        break\n",
    "    print(\"Iteration \" + str(iteration) + \"; count is: \" + str(count))\n",
    "```\n",
    "\n",
    "A : 주어진 코드와 동일한것을 수행하는 코드는 코드 2이다.\n",
    "\n",
    "- 주어진 코드 : 큰 틀에서 총 3번의 순회를 한다. 각 순회마다 \"hello, world\" 문자열의 한글자씩 순회를하며 count변수에 1씩 더해준다.한번의 순회가 끝나면, iteration변수와 count변수를 출력하고, 큰 순회가 끝나기 전에 iteration변수에 1을 더해서 큰 틀의 순회를 count해준다\n",
    "<br>\n",
    "- 코드 1 : 큰 틀에서 총 3번의 순회를 한다. 한번의 순회마다 count변수는 0으로 초기화 되며, 한번의 순회 내의 또다른 순회가 존재한다. 내부 순회에서는 \"hello, world\"문자열의 한글자씩 순회하며, count변수에 1씩 더해준다. 한번의 순회가 끝나면, 외부 순회를 count하는 iteration변수와 count변수를 출력하고, 내부 순회를 끝낸다.\n",
    "<br>\n",
    "- 코드 2 : 주어진 코드와 동일한 기능을 한다"
   ]
  },
  {
   "cell_type": "markdown",
   "id": "5b0ea61d",
   "metadata": {},
   "source": [
    "# 문제 #6: (Python List Handling)\n",
    "아래 프로그램은 두개의 리스트를 합치는 코드이다. L1. L2 리스트는 같은 길이라고 하자.\n",
    "\n",
    "- A. 리스트를 “합친다”는 의미를 아래 코드에서는 어떻게 해석(구현)하고 있는가? 예를 들어, L1=[2,4,6] L2=[1,2,5] 일 때 각 코드의 결과는?\n",
    "- B. 코드 1과 코드 2의 차이점이 무엇인가?\n",
    "\n",
    "```python\n",
    "# 코드 1\n",
    "\n",
    "def Code1(L1, L2): \n",
    "    temp = L1[:] \n",
    "    for e2 in L2:\n",
    "        flag = False\n",
    "        for check in temp:\n",
    "            if e2 == check: \n",
    "                flag = True\n",
    "                break \n",
    "        if not flag:\n",
    "            temp.append(e2) \n",
    "    return temp\n",
    "\n",
    "\n",
    "# 코드 2\n",
    "\n",
    "def Code2(L1, L2): \n",
    "    temp = []\n",
    "    for e1 in L1: \n",
    "        flag = False\n",
    "        for e2 in L2:\n",
    "            if e1 == e2:\n",
    "                flag = True\n",
    "                break \n",
    "        if not flag:\n",
    "            temp.append(e1) \n",
    "    return temp + L2\n",
    "```\n",
    "\n",
    "~~~\n",
    "결과값\n",
    "\n",
    "- 코드 1 : [2, 4, 6, 1, 5]\n",
    "- 코드 2 : [4, 6, 1, 2, 5]\n",
    "~~~\n",
    "\n",
    "A : 두 코드의 공통점은 중복된 원소 없이 합친다는 공통점이 있다. 차이점이라면, Code1같은 경우에는 L1의 복제본 temp를 기반으로, L2의 원소가 temp에 없는 경우에만 temp에 추가하고 반환한다. Code2같은 경우에는 빈 리스트를 기반으로, L1을 순회하고, 순회중인 L1의 원소를 기준으로 L2를 순회하며, 동일한 값이 있는 경우를 제외하고, L1의 원소를 추가하게 된다. 이렇게 하면, L1의 원소중 L2와 중복되지 않는 원소만 들어가게 되고, 마지막에 L2를 합친다. 그렇기 때문에, 코드1, 코드2 리스트 내부 값들은 동일하지만 순서가 다른것을 볼 수 있다."
   ]
  }
 ],
 "metadata": {
  "kernelspec": {
   "display_name": "Python 3 (ipykernel)",
   "language": "python",
   "name": "python3"
  },
  "language_info": {
   "codemirror_mode": {
    "name": "ipython",
    "version": 3
   },
   "file_extension": ".py",
   "mimetype": "text/x-python",
   "name": "python",
   "nbconvert_exporter": "python",
   "pygments_lexer": "ipython3",
   "version": "3.9.13"
  }
 },
 "nbformat": 4,
 "nbformat_minor": 5
}
