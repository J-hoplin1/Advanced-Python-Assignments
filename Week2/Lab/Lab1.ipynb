{
 "cells": [
  {
   "cell_type": "markdown",
   "id": "066c82db",
   "metadata": {},
   "source": [
    "# Lab 1 \n",
    "***\n",
    "- 작성자 : B889047 윤준호\n",
    "- 작성일 : 2022 / 09 / 13, Tue"
   ]
  },
  {
   "cell_type": "code",
   "execution_count": null,
   "id": "fb1dccdc",
   "metadata": {},
   "outputs": [],
   "source": []
  }
 ],
 "metadata": {
  "kernelspec": {
   "display_name": "Python 3 (ipykernel)",
   "language": "python",
   "name": "python3"
  },
  "language_info": {
   "codemirror_mode": {
    "name": "ipython",
    "version": 3
   },
   "file_extension": ".py",
   "mimetype": "text/x-python",
   "name": "python",
   "nbconvert_exporter": "python",
   "pygments_lexer": "ipython3",
   "version": "3.9.12"
  }
 },
 "nbformat": 4,
 "nbformat_minor": 5
}
