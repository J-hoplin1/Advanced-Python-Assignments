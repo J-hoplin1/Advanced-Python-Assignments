{
 "cells": [
  {
   "cell_type": "markdown",
   "id": "364ec905",
   "metadata": {},
   "source": [
    "# Homework \\#0 Report\n",
    "***\n",
    "- 작성자 : B889047 윤준호\n",
    "- 작성일 : 2022 / 09 / 11,\n",
    "Sun"
   ]
  },
  {
   "cell_type": "code",
   "execution_count": 1,
   "id": "81bdae20",
   "metadata": {},
   "outputs": [],
   "source": [
    "from typing import Any, MutableSequence,Union"
   ]
  },
  {
   "cell_type": "markdown",
   "id": "0aa63755",
   "metadata": {},
   "source": [
    "# Task 1: Variables\n",
    "\n",
    "Create a variable with name ```university``` and assign the string value ```Hongik```to it."
   ]
  },
  {
   "cell_type": "code",
   "execution_count": 2,
   "id": "dd8ac880",
   "metadata": {},
   "outputs": [],
   "source": [
    "university:str = \"Hongik\""
   ]
  },
  {
   "cell_type": "code",
   "execution_count": 3,
   "id": "0b8ecf41",
   "metadata": {},
   "outputs": [
    {
     "name": "stdout",
     "output_type": "stream",
     "text": [
      "Hongik\n"
     ]
    }
   ],
   "source": [
    "print(university)"
   ]
  },
  {
   "cell_type": "markdown",
   "id": "09c415ac",
   "metadata": {},
   "source": [
    "Create a list named ```fruits``` with the following elements:\n",
    "- ```'apple'```\n",
    "- ```'banana'```\n",
    "- ```'lemon'```"
   ]
  },
  {
   "cell_type": "code",
   "execution_count": 4,
   "id": "1d350ce2",
   "metadata": {},
   "outputs": [],
   "source": [
    "fruits:list[str] = ['apple','banana','lemon']"
   ]
  },
  {
   "cell_type": "markdown",
   "id": "25093ff9",
   "metadata": {},
   "source": [
    "Create a dictionary named ```my_dictionary``` with following key, value pairs:\n",
    "- 'a' -> 'b'\n",
    "- 5 -> 10.0\n",
    "- 'hello' -> 'goodbye'"
   ]
  },
  {
   "cell_type": "code",
   "execution_count": 5,
   "id": "004c85a6",
   "metadata": {},
   "outputs": [],
   "source": [
    "my_dictionary:dict[Union[str,int,float],Union[str,int,float]] = {\n",
    "    'a' : 'b',\n",
    "    5 : 10.0,\n",
    "    'hello' : 'goodbye'\n",
    "}"
   ]
  },
  {
   "cell_type": "markdown",
   "id": "9b974bab",
   "metadata": {},
   "source": [
    "try below the autocomplete function by typing ```my``` and pressing ```<tab>```"
   ]
  },
  {
   "cell_type": "code",
   "execution_count": 6,
   "id": "b4179375",
   "metadata": {},
   "outputs": [
    {
     "data": {
      "text/plain": [
       "{'a': 'b', 5: 10.0, 'hello': 'goodbye'}"
      ]
     },
     "execution_count": 6,
     "metadata": {},
     "output_type": "execute_result"
    }
   ],
   "source": [
    "my_dictionary"
   ]
  },
  {
   "cell_type": "markdown",
   "id": "723906f6",
   "metadata": {},
   "source": [
    "Access the value of key ```'hello'``` in ```my_dictionary```"
   ]
  },
  {
   "cell_type": "code",
   "execution_count": 7,
   "id": "c34d81be",
   "metadata": {},
   "outputs": [
    {
     "data": {
      "text/plain": [
       "'goodbye'"
      ]
     },
     "execution_count": 7,
     "metadata": {},
     "output_type": "execute_result"
    }
   ],
   "source": [
    "my_dictionary['hello']"
   ]
  },
  {
   "cell_type": "markdown",
   "id": "35876e3a",
   "metadata": {},
   "source": [
    "Create an empty set named ```my_set``` and add the values ```5``` and ```7```"
   ]
  },
  {
   "cell_type": "code",
   "execution_count": 8,
   "id": "89a1ccd9",
   "metadata": {},
   "outputs": [],
   "source": [
    "my_set:set[int] = {5,7}"
   ]
  },
  {
   "cell_type": "markdown",
   "id": "e195338b",
   "metadata": {},
   "source": [
    "# Task 2: Conditions and operators\n",
    "Print out if the element ```'cherry'``` is in list named ```fruits```"
   ]
  },
  {
   "cell_type": "code",
   "execution_count": 9,
   "id": "21626cd1",
   "metadata": {},
   "outputs": [
    {
     "name": "stdout",
     "output_type": "stream",
     "text": [
      "False\n"
     ]
    }
   ],
   "source": [
    "print('cherry' in fruits)"
   ]
  },
  {
   "cell_type": "markdown",
   "id": "4657557f",
   "metadata": {},
   "source": [
    "Print out ```wow``` if more than 1 element is in set named ```my_set```, otherwise print out ```not so many```"
   ]
  },
  {
   "cell_type": "code",
   "execution_count": 10,
   "id": "cfcc7fd5",
   "metadata": {},
   "outputs": [
    {
     "name": "stdout",
     "output_type": "stream",
     "text": [
      "wow\n"
     ]
    }
   ],
   "source": [
    "print('wow') if len(my_set) > 1 else print('not so many')"
   ]
  },
  {
   "cell_type": "markdown",
   "id": "3ded49a0",
   "metadata": {},
   "source": [
    "# Task 3: Loops\n",
    "\n",
    "Loop through the items in the ```fruits``` list and print each element."
   ]
  },
  {
   "cell_type": "code",
   "execution_count": 11,
   "id": "d5604e46",
   "metadata": {},
   "outputs": [
    {
     "name": "stdout",
     "output_type": "stream",
     "text": [
      "apple\n",
      "banana\n",
      "lemon\n"
     ]
    }
   ],
   "source": [
    "for i in fruits: print(i)"
   ]
  },
  {
   "cell_type": "code",
   "execution_count": 12,
   "id": "cd175e44",
   "metadata": {},
   "outputs": [
    {
     "name": "stdout",
     "output_type": "stream",
     "text": [
      "apple\n",
      "banana\n",
      "lemon\n"
     ]
    }
   ],
   "source": [
    "print(*fruits,sep='\\n')"
   ]
  },
  {
   "cell_type": "markdown",
   "id": "1cbbb375",
   "metadata": {},
   "source": [
    "Create a variable ```j``` set it to ```0``` and use a while loop to increase it until ```5```"
   ]
  },
  {
   "cell_type": "code",
   "execution_count": 13,
   "id": "b74e146e",
   "metadata": {},
   "outputs": [],
   "source": [
    "j = 0\n",
    "while j != 5:\n",
    "    j = j + 1"
   ]
  },
  {
   "cell_type": "code",
   "execution_count": 14,
   "id": "f13fcc78",
   "metadata": {},
   "outputs": [
    {
     "data": {
      "text/plain": [
       "5"
      ]
     },
     "execution_count": 14,
     "metadata": {},
     "output_type": "execute_result"
    }
   ],
   "source": [
    "j"
   ]
  },
  {
   "cell_type": "markdown",
   "id": "b974eccc",
   "metadata": {},
   "source": [
    "Use a for loop and the ```range``` function to loop over ```fruits``` and print each element"
   ]
  },
  {
   "cell_type": "code",
   "execution_count": 15,
   "id": "c9b7fb2b",
   "metadata": {},
   "outputs": [
    {
     "name": "stdout",
     "output_type": "stream",
     "text": [
      "apple\n",
      "banana\n",
      "lemon\n"
     ]
    }
   ],
   "source": [
    "for i in range(len(fruits)):\n",
    "    print(fruits[i])"
   ]
  },
  {
   "cell_type": "markdown",
   "id": "872b6fa7",
   "metadata": {},
   "source": [
    "# Task 4: Functions\n",
    "\n",
    "Define a function ```calc``` which has one parameter ```my_number``` and returns the value multiplied by 2"
   ]
  },
  {
   "cell_type": "code",
   "execution_count": 16,
   "id": "3e439d0c",
   "metadata": {},
   "outputs": [],
   "source": [
    "def calc(my_number:int) -> int:\n",
    "    return my_number * 2"
   ]
  },
  {
   "cell_type": "markdown",
   "id": "bb03266f",
   "metadata": {},
   "source": [
    "Call that function with the value ```5``` and print the output"
   ]
  },
  {
   "cell_type": "code",
   "execution_count": 17,
   "id": "1969a60e",
   "metadata": {},
   "outputs": [
    {
     "data": {
      "text/plain": [
       "10"
      ]
     },
     "execution_count": 17,
     "metadata": {},
     "output_type": "execute_result"
    }
   ],
   "source": [
    "calc(5)"
   ]
  },
  {
   "cell_type": "markdown",
   "id": "624aab25",
   "metadata": {},
   "source": [
    "Python has a ```sorted(iterable, key)``` function and key can be a lamdba function which gets one item and return a value which is the sorting key.\n",
    "\n",
    "As an example: ```sorted_fruits = sorted(fruits, key=lamdba x: x[1])``` which sorts on the second character of each element in the list.\n",
    "\n",
    "Sort now the list by the length of the strings."
   ]
  },
  {
   "cell_type": "code",
   "execution_count": 18,
   "id": "ddb27ac4",
   "metadata": {},
   "outputs": [],
   "source": [
    "sorted_fruits = sorted(fruits,key=lambda x: len(x))"
   ]
  },
  {
   "cell_type": "code",
   "execution_count": 19,
   "id": "ef9ce87b",
   "metadata": {},
   "outputs": [
    {
     "data": {
      "text/plain": [
       "['apple', 'lemon', 'banana']"
      ]
     },
     "execution_count": 19,
     "metadata": {},
     "output_type": "execute_result"
    }
   ],
   "source": [
    "sorted_fruits"
   ]
  },
  {
   "cell_type": "markdown",
   "id": "bd0e06a6",
   "metadata": {},
   "source": [
    "Define a function that, given a string, returns the number of upper case and lower case characters in it."
   ]
  },
  {
   "cell_type": "code",
   "execution_count": 20,
   "id": "3bcfc5a2",
   "metadata": {},
   "outputs": [],
   "source": [
    "def countLowerAndUpper(string:str) -> dict[str,int]:\n",
    "    return {\n",
    "        \"upper_case\" : len(list(filter(lambda x: x.isupper() ,string))),\n",
    "        \"lower_case\" : len(list(filter(lambda x: x.islower() ,string)))\n",
    "    }"
   ]
  },
  {
   "cell_type": "code",
   "execution_count": 21,
   "id": "3e9c7d30",
   "metadata": {},
   "outputs": [
    {
     "data": {
      "text/plain": [
       "{'upper_case': 2, 'lower_case': 8}"
      ]
     },
     "execution_count": 21,
     "metadata": {},
     "output_type": "execute_result"
    }
   ],
   "source": [
    "countLowerAndUpper(\"HelloWorld\")"
   ]
  },
  {
   "cell_type": "code",
   "execution_count": 22,
   "id": "e9f92ba8",
   "metadata": {},
   "outputs": [
    {
     "data": {
      "text/plain": [
       "{'upper_case': 8, 'lower_case': 10}"
      ]
     },
     "execution_count": 22,
     "metadata": {},
     "output_type": "execute_result"
    }
   ],
   "source": [
    "countLowerAndUpper(\"PythonFuNcTIONTest\")"
   ]
  },
  {
   "cell_type": "code",
   "execution_count": 23,
   "id": "f4b9ea8b",
   "metadata": {},
   "outputs": [],
   "source": [
    "from functools import reduce"
   ]
  },
  {
   "cell_type": "code",
   "execution_count": 24,
   "id": "cb55bf69",
   "metadata": {},
   "outputs": [],
   "source": [
    "def countLowerAndUpperReduce(string:str) -> dict[str,int]:\n",
    "    return {\n",
    "        \"upper_case\" : reduce(lambda x,y: x + 1 if y.isupper() else x + 0,string,0),\n",
    "        \"lower_case\" : reduce(lambda x,y: x + 1 if y.islower() else x + 0,string,0)\n",
    "    }"
   ]
  },
  {
   "cell_type": "code",
   "execution_count": 25,
   "id": "0c469a90",
   "metadata": {},
   "outputs": [
    {
     "data": {
      "text/plain": [
       "{'upper_case': 2, 'lower_case': 8}"
      ]
     },
     "execution_count": 25,
     "metadata": {},
     "output_type": "execute_result"
    }
   ],
   "source": [
    "countLowerAndUpperReduce(\"HelloWorld\")"
   ]
  },
  {
   "cell_type": "code",
   "execution_count": 26,
   "id": "db32c45c",
   "metadata": {},
   "outputs": [
    {
     "data": {
      "text/plain": [
       "{'upper_case': 8, 'lower_case': 10}"
      ]
     },
     "execution_count": 26,
     "metadata": {},
     "output_type": "execute_result"
    }
   ],
   "source": [
    "countLowerAndUpperReduce(\"PythonFuNcTIONTest\")"
   ]
  }
 ],
 "metadata": {
  "kernelspec": {
   "display_name": "Python 3 (ipykernel)",
   "language": "python",
   "name": "python3"
  },
  "language_info": {
   "codemirror_mode": {
    "name": "ipython",
    "version": 3
   },
   "file_extension": ".py",
   "mimetype": "text/x-python",
   "name": "python",
   "nbconvert_exporter": "python",
   "pygments_lexer": "ipython3",
   "version": "3.9.12"
  }
 },
 "nbformat": 4,
 "nbformat_minor": 5
}
