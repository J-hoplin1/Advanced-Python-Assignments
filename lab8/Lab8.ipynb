{
 "cells": [
  {
   "cell_type": "markdown",
   "id": "86b1a19e",
   "metadata": {},
   "source": [
    "Lab 8 \n",
    "===\n",
    "***\n",
    "- 작성자 : B889047 윤준호\n",
    "- 작성일 : 2022 / 11 / 08, tue\n",
    "***\n",
    "\n",
    "## PPT1-Q1 : Don’t forget self, Part 1\n",
    "A :"
   ]
  },
  {
   "cell_type": "code",
   "execution_count": 1,
   "id": "75400002",
   "metadata": {},
   "outputs": [],
   "source": [
    "class Student(object):\n",
    "    def __init__(self,netID,courses,major):\n",
    "        self.netID = netID\n",
    "        self.courses = courses\n",
    "        self.major = major\n",
    "    \n",
    "    def enroll(name,n):\n",
    "        if self.n_credit + n > Student.max_credit:\n",
    "            print(\"Sorry your schedule is full\")\n",
    "        else:\n",
    "            self.courses.append((name,n))\n",
    "            self.n_credit = self.n_credit + n\n",
    "            print(\"Welcome to \" + name)"
   ]
  },
  {
   "cell_type": "code",
   "execution_count": 2,
   "id": "2a612b86",
   "metadata": {},
   "outputs": [
    {
     "ename": "TypeError",
     "evalue": "enroll() takes 2 positional arguments but 3 were given",
     "output_type": "error",
     "traceback": [
      "\u001b[0;31m---------------------------------------------------------------------------\u001b[0m",
      "\u001b[0;31mTypeError\u001b[0m                                 Traceback (most recent call last)",
      "Input \u001b[0;32mIn [2]\u001b[0m, in \u001b[0;36m<module>\u001b[0;34m\u001b[0m\n\u001b[1;32m      1\u001b[0m s1 \u001b[38;5;241m=\u001b[39m Student(\u001b[38;5;124m\"\u001b[39m\u001b[38;5;124mxy1234\u001b[39m\u001b[38;5;124m\"\u001b[39m,[],\u001b[38;5;124m\"\u001b[39m\u001b[38;5;124mHistory\u001b[39m\u001b[38;5;124m\"\u001b[39m)\n\u001b[1;32m      2\u001b[0m s2 \u001b[38;5;241m=\u001b[39m Student(\u001b[38;5;124m\"\u001b[39m\u001b[38;5;124mab132\u001b[39m\u001b[38;5;124m\"\u001b[39m,[],\u001b[38;5;124m\"\u001b[39m\u001b[38;5;124mMath\u001b[39m\u001b[38;5;124m\"\u001b[39m)\n\u001b[0;32m----> 3\u001b[0m \u001b[43ms1\u001b[49m\u001b[38;5;241;43m.\u001b[39;49m\u001b[43menroll\u001b[49m\u001b[43m(\u001b[49m\u001b[38;5;124;43m\"\u001b[39;49m\u001b[38;5;124;43mAEM 2400\u001b[39;49m\u001b[38;5;124;43m\"\u001b[39;49m\u001b[43m,\u001b[49m\u001b[38;5;241;43m4\u001b[39;49m\u001b[43m)\u001b[49m\n",
      "\u001b[0;31mTypeError\u001b[0m: enroll() takes 2 positional arguments but 3 were given"
     ]
    }
   ],
   "source": [
    "s1 = Student(\"xy1234\",[],\"History\")\n",
    "s2 = Student(\"ab132\",[],\"Math\")\n",
    "s1.enroll(\"AEM 2400\",4)"
   ]
  },
  {
   "cell_type": "markdown",
   "id": "805ce824",
   "metadata": {},
   "source": [
    "## Q1: Don’t forget self, Part 2\n",
    "\n",
    "A : `A)Error`, self는 기본적으로 인스턴스 자신을 가리키며, `__init__`, 생성자에서 기본적으로 n_credit이라는 인스턴스 변수는 생성되지 않는다. 그렇기에 인스턴스 변수에 존재하지 않으므로 에러가 난다."
   ]
  },
  {
   "cell_type": "code",
   "execution_count": 3,
   "id": "862e98bc",
   "metadata": {},
   "outputs": [],
   "source": [
    "class Student(object):\n",
    "    def __init__(self,netID,courses,major):\n",
    "        self.netID = netID\n",
    "        self.courses = courses\n",
    "        self.major = major\n",
    "    \n",
    "    def enroll(self,name,n):\n",
    "        if self.n_credit + n > Student.max_credit:\n",
    "            print(\"Sorry your schedule is full\")\n",
    "        else:\n",
    "            self.courses.append((name,n))\n",
    "            self.n_credit = self.n_credit + n\n",
    "            print(\"Welcome to \" + name)"
   ]
  },
  {
   "cell_type": "code",
   "execution_count": 4,
   "id": "854654dd",
   "metadata": {},
   "outputs": [
    {
     "ename": "AttributeError",
     "evalue": "'Student' object has no attribute 'n_credit'",
     "output_type": "error",
     "traceback": [
      "\u001b[0;31m---------------------------------------------------------------------------\u001b[0m",
      "\u001b[0;31mAttributeError\u001b[0m                            Traceback (most recent call last)",
      "Input \u001b[0;32mIn [4]\u001b[0m, in \u001b[0;36m<module>\u001b[0;34m\u001b[0m\n\u001b[1;32m      1\u001b[0m s1 \u001b[38;5;241m=\u001b[39m Student(\u001b[38;5;124m\"\u001b[39m\u001b[38;5;124mxy1234\u001b[39m\u001b[38;5;124m\"\u001b[39m,[],\u001b[38;5;124m\"\u001b[39m\u001b[38;5;124mHistory\u001b[39m\u001b[38;5;124m\"\u001b[39m)\n\u001b[1;32m      2\u001b[0m s2 \u001b[38;5;241m=\u001b[39m Student(\u001b[38;5;124m\"\u001b[39m\u001b[38;5;124mab132\u001b[39m\u001b[38;5;124m\"\u001b[39m,[],\u001b[38;5;124m\"\u001b[39m\u001b[38;5;124mMath\u001b[39m\u001b[38;5;124m\"\u001b[39m)\n\u001b[0;32m----> 3\u001b[0m \u001b[43ms1\u001b[49m\u001b[38;5;241;43m.\u001b[39;49m\u001b[43menroll\u001b[49m\u001b[43m(\u001b[49m\u001b[38;5;124;43m\"\u001b[39;49m\u001b[38;5;124;43mAEM 2400\u001b[39;49m\u001b[38;5;124;43m\"\u001b[39;49m\u001b[43m,\u001b[49m\u001b[38;5;241;43m4\u001b[39;49m\u001b[43m)\u001b[49m\n",
      "Input \u001b[0;32mIn [3]\u001b[0m, in \u001b[0;36mStudent.enroll\u001b[0;34m(self, name, n)\u001b[0m\n\u001b[1;32m      7\u001b[0m \u001b[38;5;28;01mdef\u001b[39;00m \u001b[38;5;21menroll\u001b[39m(\u001b[38;5;28mself\u001b[39m,name,n):\n\u001b[0;32m----> 8\u001b[0m     \u001b[38;5;28;01mif\u001b[39;00m \u001b[38;5;28;43mself\u001b[39;49m\u001b[38;5;241;43m.\u001b[39;49m\u001b[43mn_credit\u001b[49m \u001b[38;5;241m+\u001b[39m n \u001b[38;5;241m>\u001b[39m Student\u001b[38;5;241m.\u001b[39mmax_credit:\n\u001b[1;32m      9\u001b[0m         \u001b[38;5;28mprint\u001b[39m(\u001b[38;5;124m\"\u001b[39m\u001b[38;5;124mSorry your schedule is full\u001b[39m\u001b[38;5;124m\"\u001b[39m)\n\u001b[1;32m     10\u001b[0m     \u001b[38;5;28;01melse\u001b[39;00m:\n",
      "\u001b[0;31mAttributeError\u001b[0m: 'Student' object has no attribute 'n_credit'"
     ]
    }
   ],
   "source": [
    "s1 = Student(\"xy1234\",[],\"History\")\n",
    "s2 = Student(\"ab132\",[],\"Math\")\n",
    "s1.enroll(\"AEM 2400\",4)"
   ]
  },
  {
   "cell_type": "markdown",
   "id": "b916507c",
   "metadata": {},
   "source": [
    "## PPT1-Q2: What gets Printed?\n",
    "\n",
    "A : C)"
   ]
  },
  {
   "cell_type": "code",
   "execution_count": 5,
   "id": "1f4f400e",
   "metadata": {},
   "outputs": [],
   "source": [
    "class Student(object):\n",
    "    max_credit =22\n",
    "    def __init__(self,netID,courses,major):\n",
    "        self.netID = netID\n",
    "        self.courses = courses\n",
    "        self.major = major\n",
    "    \n",
    "    def enroll(self,name,n):\n",
    "        if self.n_credit + n > Student.max_credit:\n",
    "            print(\"Sorry your schedule is full\")\n",
    "        else:\n",
    "            self.courses.append((name,n))\n",
    "            self.n_credit = self.n_credit + n\n",
    "            print(\"Welcome to \" + name)"
   ]
  },
  {
   "cell_type": "code",
   "execution_count": 6,
   "id": "bc81ba98",
   "metadata": {},
   "outputs": [],
   "source": [
    "s1 = Student(\"jl200\", [], \"Art\")"
   ]
  },
  {
   "cell_type": "code",
   "execution_count": 7,
   "id": "76584477",
   "metadata": {},
   "outputs": [
    {
     "name": "stdout",
     "output_type": "stream",
     "text": [
      "22\n"
     ]
    }
   ],
   "source": [
    "print(s1.max_credit)"
   ]
  },
  {
   "cell_type": "code",
   "execution_count": 8,
   "id": "fb5628c9",
   "metadata": {},
   "outputs": [],
   "source": [
    "s2 = Student(\"jl202\", [], \"History\")"
   ]
  },
  {
   "cell_type": "code",
   "execution_count": 9,
   "id": "53f3c8c8",
   "metadata": {},
   "outputs": [
    {
     "name": "stdout",
     "output_type": "stream",
     "text": [
      "22\n"
     ]
    }
   ],
   "source": [
    "print(s2.max_credit)"
   ]
  },
  {
   "cell_type": "code",
   "execution_count": 10,
   "id": "83e9bc20",
   "metadata": {},
   "outputs": [],
   "source": [
    "s2.max_credit =23"
   ]
  },
  {
   "cell_type": "code",
   "execution_count": 11,
   "id": "b09d3bce",
   "metadata": {},
   "outputs": [
    {
     "name": "stdout",
     "output_type": "stream",
     "text": [
      "22\n"
     ]
    }
   ],
   "source": [
    "print(s1.max_credit)"
   ]
  },
  {
   "cell_type": "code",
   "execution_count": 12,
   "id": "35efad96",
   "metadata": {},
   "outputs": [
    {
     "name": "stdout",
     "output_type": "stream",
     "text": [
      "23\n"
     ]
    }
   ],
   "source": [
    "print(s2.max_credit)"
   ]
  },
  {
   "cell_type": "code",
   "execution_count": 13,
   "id": "99023b0a",
   "metadata": {},
   "outputs": [
    {
     "name": "stdout",
     "output_type": "stream",
     "text": [
      "22\n"
     ]
    }
   ],
   "source": [
    "print(Student.max_credit)"
   ]
  },
  {
   "cell_type": "code",
   "execution_count": 14,
   "id": "58923be9",
   "metadata": {},
   "outputs": [],
   "source": [
    "Student.max_credit = 30"
   ]
  },
  {
   "cell_type": "markdown",
   "id": "a18c82fa",
   "metadata": {},
   "source": [
    "## PPT2-Q1 : str and repr\n",
    "\n",
    "A : B)"
   ]
  },
  {
   "cell_type": "code",
   "execution_count": 15,
   "id": "b93b7620",
   "metadata": {},
   "outputs": [],
   "source": [
    "class Example(object):\n",
    "    def __init__(self,x):\n",
    "        self.x = x\n",
    "    \n",
    "    def __str__(self):\n",
    "        return f\"Value {self.x}\"\n",
    "    \n",
    "    def __repr__(self):\n",
    "        return f\"Example {x}\""
   ]
  },
  {
   "cell_type": "code",
   "execution_count": 16,
   "id": "ab814314",
   "metadata": {},
   "outputs": [],
   "source": [
    "w = Example(3)"
   ]
  },
  {
   "cell_type": "code",
   "execution_count": 17,
   "id": "a627c8b4",
   "metadata": {},
   "outputs": [
    {
     "data": {
      "text/plain": [
       "'Value 3'"
      ]
     },
     "execution_count": 17,
     "metadata": {},
     "output_type": "execute_result"
    }
   ],
   "source": [
    "str(w)"
   ]
  },
  {
   "cell_type": "markdown",
   "id": "39924d09",
   "metadata": {},
   "source": [
    "## PPT2-Q2 : str and repr\n",
    "\n",
    "A : D), `__repr__`같은 경우, self를 통해서 인스턴스 변수 x를 접근하는것이 아닌, 일반적인 지역변수를 접근하듯이 x로 접근한다. 그렇기에 오류가 난다. 이를 고치기 위해서는 `__repr__`에 `self.x`로 변경해주어야 한다."
   ]
  },
  {
   "cell_type": "code",
   "execution_count": 18,
   "id": "18337176",
   "metadata": {},
   "outputs": [
    {
     "ename": "NameError",
     "evalue": "name 'x' is not defined",
     "output_type": "error",
     "traceback": [
      "\u001b[0;31m---------------------------------------------------------------------------\u001b[0m",
      "\u001b[0;31mNameError\u001b[0m                                 Traceback (most recent call last)",
      "Input \u001b[0;32mIn [18]\u001b[0m, in \u001b[0;36m<module>\u001b[0;34m\u001b[0m\n\u001b[0;32m----> 1\u001b[0m \u001b[38;5;28;43mrepr\u001b[39;49m\u001b[43m(\u001b[49m\u001b[43mw\u001b[49m\u001b[43m)\u001b[49m\n",
      "Input \u001b[0;32mIn [15]\u001b[0m, in \u001b[0;36mExample.__repr__\u001b[0;34m(self)\u001b[0m\n\u001b[1;32m      8\u001b[0m \u001b[38;5;28;01mdef\u001b[39;00m \u001b[38;5;21m__repr__\u001b[39m(\u001b[38;5;28mself\u001b[39m):\n\u001b[0;32m----> 9\u001b[0m     \u001b[38;5;28;01mreturn\u001b[39;00m \u001b[38;5;124mf\u001b[39m\u001b[38;5;124m\"\u001b[39m\u001b[38;5;124mExample \u001b[39m\u001b[38;5;132;01m{\u001b[39;00mx\u001b[38;5;132;01m}\u001b[39;00m\u001b[38;5;124m\"\u001b[39m\n",
      "\u001b[0;31mNameError\u001b[0m: name 'x' is not defined"
     ]
    }
   ],
   "source": [
    "repr(w)"
   ]
  },
  {
   "cell_type": "markdown",
   "id": "486076d7",
   "metadata": {},
   "source": [
    "# Codes 폴더 안에 있는 코드들을 작동시켜본다\n",
    "\n",
    "## 1_college_simple.py\n",
    "\n",
    "인스턴스 생성시, 생성자(`__init__`)함수에 인자값을 넘겨주어 해당 인스턴스의 인스턴스 변수를 초기화 시켜줄 수 있다."
   ]
  },
  {
   "cell_type": "code",
   "execution_count": 19,
   "id": "1c550df9",
   "metadata": {},
   "outputs": [
    {
     "name": "stdout",
     "output_type": "stream",
     "text": [
      "Student 1\n",
      "abc12\n",
      "[]\n",
      "Music\n",
      "Student 2\n",
      "[['PAM1000', 3], ['BIOG1000', 3]]\n"
     ]
    }
   ],
   "source": [
    "class Student:\n",
    "\n",
    "    def __init__(self, netID, courses, major):\n",
    "        \"\"\"Initializer: instance with netID, and courses which defaults empty\n",
    "\n",
    "        netID:     [str], 2-3 letters + 1-4 digits\n",
    "        courses:   nested list [ [name0, n0], [name1, n1], ... ]\n",
    "                    name is course name [str], n is number of credits [int]\n",
    "        major:     declared major [str or None]\n",
    "        \"\"\"\n",
    "        self.netID = netID\n",
    "        self.courses = courses\n",
    "        self.major = major\n",
    "\n",
    "# Demo\n",
    "print('Student 1')\n",
    "courselist= []\n",
    "s1= Student(\"abc12\", courselist, \"Music\")\n",
    "print(s1.netID)\n",
    "print(s1.courses)\n",
    "print(s1.major)\n",
    "print('Student 2')\n",
    "s2= Student(\"bcb231\", [['PAM1000',3], ['BIOG1000',3]], \"Art\")\n",
    "print(s2.courses)"
   ]
  },
  {
   "cell_type": "markdown",
   "id": "e108ce2b",
   "metadata": {},
   "source": [
    "## 1_college.py\n",
    "\n",
    "생성자는 기본적으로 기본값을 가진다. courses는 빈 리스트를, major는 None을 가진다. 이 두가지 값은 매개변수로 넘겨지지 않을 시 해당 값으로 대체된다는 의미이다.\n",
    "\n",
    "그리고 `assert`를 통해 넘어온 값들에 대해 타입 혹은 조건에 대한 체킹을 진행한다\n",
    "\n",
    "클래스 변수 max_credit이 선언되어있다. 클래스변수는 해당 클래스를 통해 생성한 모든 인스턴스가 동일하게 가지는 값이며, 클래스 변수가 변경되면 모든 인스턴스는 변경된 값을 가리키게 된다. 이 클래스 변수는 학생이 `enroll()`를 하는 경우에, 학생 개인의 신청 학점과 비교하여 `max_credit` 이상이 될 시, `enroll()`를 불가능하게 한다."
   ]
  },
  {
   "cell_type": "code",
   "execution_count": 20,
   "id": "2c17fca5",
   "metadata": {},
   "outputs": [
    {
     "name": "stdout",
     "output_type": "stream",
     "text": [
      "[]\n",
      "0\n",
      "welcome to MATH 1920\n",
      "currently at 3 credits\n",
      "welcome to HADM 2200\n",
      "currently at 6 credits\n",
      "welcome to CS 1110\n",
      "currently at 10 credits\n",
      "[['MATH 1920', 3], ['HADM 2200', 3], ['CS 1110', 4]]\n",
      "Just dropped MATH 1920\n",
      "currently at 7 credits\n",
      "[['HADM 2200', 3], ['CS 1110', 4]]\n",
      "mep1 is in Art with 7 credits\n"
     ]
    }
   ],
   "source": [
    "class Student:\n",
    "    \"\"\"An instance is a Cornell student\n",
    "\n",
    "    Class attributes:\n",
    "       max_credit: maximum number of credits\n",
    "\n",
    "    Instance attributes:\n",
    "        netID:     [str], 2-3 letters + 1-4 digits\n",
    "        courses:   nested list [ [name0, n0], [name1, n1], ... ]\n",
    "                    name is course name [str], n is number of credits [int]\n",
    "        major:     declared major [str or None]\n",
    "        n_credit:  total numnber of credits this semester [int]\n",
    "                    must be <= max_credit\n",
    "    \"\"\"\n",
    "\n",
    "    max_credit = 22\n",
    "\n",
    "    def __init__(self, netID, courses=[], major=None):\n",
    "        \"\"\"Initializer: instance with netID, and courses which defaults empty\n",
    "\n",
    "        netID:     [str], 2-3 letters + 1-4 digits\n",
    "        courses:   nested list [ [name0, n0], [name1, n1], ... ]\n",
    "                    name is course name [str], n is number of credits [int]\n",
    "        major:     declared major [str or None]\n",
    "        \"\"\"\n",
    "        assert type(netID) == str, \"netID should be type str\"\n",
    "        assert netID[0].isalpha(), \"netID should begin with a letter\"\n",
    "        assert netID[-1].isdigit(), \"netID should end with an int\"\n",
    "        assert type(courses) == list, \"courses should be a list\"\n",
    "        assert major==None or type(major)==str, \"major should be None or a str\"\n",
    "\n",
    "        self.netID = netID\n",
    "        self.courses = courses\n",
    "        self.major = major\n",
    "        self.n_credit = 0\n",
    "        # Add up all the credits\n",
    "        for one_course in courses:\n",
    "            self.n_credit += one_course[1]\n",
    "\n",
    "        assert self.n_credit <= Student.max_credit, \"over credit limit\"\n",
    "\n",
    "    def enroll(self, new_course, n):\n",
    "        \"\"\"enrolls student in a new course only if they can add n credits to\n",
    "            their schedule\n",
    "\n",
    "        new_course: name of course [str]\n",
    "        n: number of credits of new course [int]\n",
    "        \"\"\"\n",
    "        if self.n_credit + n > Student.max_credit:\n",
    "            print(\"I'm sorry but your schedule is full!\")\n",
    "        else:\n",
    "            self.courses.append([new_course, n])\n",
    "            self.n_credit += n\n",
    "            print(\"welcome to \"+new_course)\n",
    "        print(\"currently at \"+str(self.n_credit)+\" credits\")\n",
    "\n",
    "    def drop(self, course_name):\n",
    "        \"\"\"removes course with name new_course from courses list\n",
    "\n",
    "        course_name: name of course to drop [str]\n",
    "        \"\"\"\n",
    "        for one_course in self.courses:\n",
    "            if one_course[0] == course_name:\n",
    "                self.n_credit -= one_course[1]\n",
    "                self.courses.remove(one_course)\n",
    "                print(\"Just dropped \"+course_name)\n",
    "        print(\"currently at \"+str(self.n_credit)+\" credits\")\n",
    "\n",
    "# Demo\n",
    "if __name__=='__main__':\n",
    "    s1 = Student(\"mep1\")\n",
    "    print(s1.courses)\n",
    "    print(s1.n_credit)\n",
    "    s1.enroll(\"MATH 1920\", 3)\n",
    "    s1.enroll(\"HADM 2200\", 3)\n",
    "    s1.enroll(\"CS 1110\", 4)\n",
    "    print(s1.courses)\n",
    "    s1.drop(\"MATH 1920\")\n",
    "    print(s1.courses)\n",
    "    s1.major=\"Art\"\n",
    "    print(s1.netID+\" is in \"+s1.major+\" with \"+str(s1.n_credit)+ \" credits\")"
   ]
  },
  {
   "cell_type": "markdown",
   "id": "f926cccf",
   "metadata": {},
   "source": [
    "## 2_rect.py"
   ]
  },
  {
   "cell_type": "code",
   "execution_count": 21,
   "id": "cc0c0d55",
   "metadata": {},
   "outputs": [
    {
     "name": "stdout",
     "output_type": "stream",
     "text": [
      "1.0\n",
      "9.75\n",
      "(0.5, 1) x (2.5, 3)\n",
      "(0.5, 1) x (2.5, 3)\n"
     ]
    }
   ],
   "source": [
    "\"\"\"\n",
    "A module providing a class to represent 2D rectangles.\n",
    "\n",
    "Authors: Walker White (wmw2), Steve Marschner (srm2), and Lillian Lee (ljl2)\n",
    "Date:    October 20, 2019\n",
    "\"\"\"\n",
    "\n",
    "\n",
    "class Rectangle(object):\n",
    "    \"\"\"\n",
    "    A class to represent rectangular regions of the plane.\n",
    "\n",
    "    Attribute l: The x-coordinate of the left edge\n",
    "    Invariant: l is a float, l <= r\n",
    "\n",
    "    Attribute r: The x-coordinate of the right edge\n",
    "    Invariant: r is a float, l <= r\n",
    "\n",
    "    Attribute b: The y-coordinate of the bottom edge\n",
    "    Invariant: b is a float, b <= t\n",
    "\n",
    "    Attribute t: The y-coordinate of the top edge\n",
    "    Invariant: t is a float, b <= t\n",
    "    \"\"\"\n",
    "\n",
    "    def __init__(self, l, r, b, t):\n",
    "        \"\"\"\n",
    "        Initializes the rectangle [l, r] x [b, t]\n",
    "\n",
    "        Parameter l: left edge\n",
    "        Precondition: l is a float\n",
    "\n",
    "        Parameter r: right edge\n",
    "        Precondition: r is a float, l <= r\n",
    "\n",
    "        Parameter b: bottom edge\n",
    "        Precondition: b is a float\n",
    "\n",
    "        Parameter t: top edge\n",
    "        Precondition: t is a float, b <= t\n",
    "        \"\"\"\n",
    "        self.l = l\n",
    "        self.r = r\n",
    "        self.b = b\n",
    "        self.t = t\n",
    "\n",
    "    def area(self):\n",
    "        \"\"\"\n",
    "        Returns the area of the rectangle.\n",
    "        \"\"\"\n",
    "        return (self.r - self.l) * (self.t - self.b)\n",
    "\n",
    "    def intersection(self, other):\n",
    "        \"\"\"\n",
    "        Returns a new Rectangle which is intersection of self with other.\n",
    "\n",
    "        The result may be an \"empty\" rectangle\n",
    "\n",
    "        Parameter other: the rectangle to intersect\n",
    "        Precondition: other is a rectangle\n",
    "        \"\"\"\n",
    "        l = max(self.l, other.l)\n",
    "        r = min(self.r, other.r)\n",
    "        b = max(self.b, other.b)\n",
    "        t = min(self.t, other.t)\n",
    "        if (r < l):\n",
    "            r = l\n",
    "        if (t < b):\n",
    "            t = b\n",
    "        return Rectangle(l, r, b, t)\n",
    "    \n",
    "    def __str__(self):\n",
    "        \"\"\"\n",
    "        Returns: String representation of this rectangle.\n",
    "        \"\"\"\n",
    "        return \"(%g, %g) x (%g, %g)\" % (self.l, self.r, self.b, self.t)\n",
    "\n",
    "\n",
    "def demo_rect():\n",
    "    \"\"\"\n",
    "    Shows off rectangle in action\n",
    "    \"\"\"\n",
    "    r1 = Rectangle(0., 1., 2., 3.)\n",
    "    print(r1.area())\n",
    "    r2 = Rectangle(.5, 2., 2.5, 9.)\n",
    "    print(r2.area())\n",
    "    r3 = r1.intersection(r2)\n",
    "    r4 = r2.intersection(r1)\n",
    "    print(r3)\n",
    "    print(r4)\n",
    "\n",
    "\n",
    "if __name__ == '__main__':\n",
    "    demo_rect()\n"
   ]
  },
  {
   "cell_type": "markdown",
   "id": "f01dbbb3",
   "metadata": {},
   "source": [
    "## 2_time1.py\n",
    "\n",
    "기본적으로 `__str__` 매직메소드는 인스턴스 자체가 문자열로 변환되어야하는 경우, 지정한 문자열에 따라 반환하는 성질을 가지고 있다. 그렇기 때문에 `print(t, t.isPM())`의 경우, 인스턴스 t가 문자열로 출력되야하는 상황이므로, `__str__` 함수가 호출되는 것이다"
   ]
  },
  {
   "cell_type": "code",
   "execution_count": 22,
   "id": "8a2df827",
   "metadata": {},
   "outputs": [
    {
     "name": "stdout",
     "output_type": "stream",
     "text": [
      "23:58\n",
      "0:01\n",
      "11:01 False\n",
      "13:00 True\n"
     ]
    }
   ],
   "source": [
    "class Time(object):\n",
    "    \"\"\"\n",
    "    A class to represent the times of day.\n",
    "    \n",
    "    Attribute hour: the hour of the day\n",
    "    Invariant: hour is an int in 0..23\n",
    "    \n",
    "    Attribute min: the minute of the hour\n",
    "    Invariant: min is an int in 0..59\n",
    "    \"\"\"\n",
    "    \n",
    "    def __init__(self, hour, min):\n",
    "        \"\"\"\n",
    "        Initializes the time hour:min. \n",
    "        \n",
    "        Parameter hour: hour of day\n",
    "        Precondition: hour is an int in 0.23\n",
    "        \n",
    "        Parameter min: minute of hour\n",
    "        Precondition: min is an int in 0..59\n",
    "        \"\"\"\n",
    "        assert type(hour) == int, repr(hour)+' is not an int'\n",
    "        assert 0 <= hour and hour < 24, repr(hour)+' is out of range 0..23'\n",
    "        assert type(min) == int, repr(min)+' is not an int'\n",
    "        assert 0 <= min and min < 60, repr(hour)+' is out of range 0..59'\n",
    "        \n",
    "        self.hour = hour\n",
    "        self.min = min\n",
    "    \n",
    "    def increment(self, hours, mins):\n",
    "        \"\"\"\n",
    "        Moves this object <hours> hours and <mins> minutes into the future.\n",
    "        \n",
    "        Parameter hours: number of hours to move\n",
    "        Precondition: hours is an int >= 0\n",
    "        \n",
    "        Parameter mins: number of minutes to move\n",
    "        Precondition: mins an int in 0..59\n",
    "        \"\"\"\n",
    "        assert type(hours) == int, repr(hours)+' is not an int'\n",
    "        assert 0 <= hours, repr(hours)+' is not >= 0'\n",
    "        assert type(mins) == int, repr(mins)+' is not an int'\n",
    "        assert 0 <= mins and mins < 60, repr(mins)+' is out of range 0..59'\n",
    "        \n",
    "        self.hour = self.hour + hours\n",
    "        self.min = self.min + mins\n",
    "        self.hour = self.hour + self.min // 60\n",
    "        self.min = self.min % 60\n",
    "        self.hour = self.hour % 24\n",
    "    \n",
    "    def isPM(self):\n",
    "        \"\"\"\n",
    "        Returns True if this time is noon or later; False otherwise.\n",
    "        \"\"\"\n",
    "        return self.hour >= 12\n",
    "    \n",
    "    def __str__(self):\n",
    "        \"\"\"\n",
    "        Returns the time as a string in [H]H:MM 24-hour format.\n",
    "        \"\"\"\n",
    "        return str(self.hour) + (':0' if self.min < 10 else ':') + str(self.min)\n",
    "    \n",
    "    def _iamhidden(self):\n",
    "        \"\"\"\n",
    "        This method does nothing\n",
    "        \"\"\"\n",
    "        return 42\n",
    "    \n",
    "\n",
    "\n",
    "def demo_time():\n",
    "    \"\"\"\n",
    "    Shows off time in action\n",
    "    \"\"\"\n",
    "    t = Time(23,58)\n",
    "    print(t)\n",
    "    t.increment(0,3)\n",
    "    print(t)\n",
    "    t.increment(11,0)\n",
    "    print(t, t.isPM())\n",
    "    t.increment(1, 59)\n",
    "    print(t, t.isPM())\n",
    "\n",
    "\n",
    "if __name__ == '__main__':\n",
    "    demo_time()"
   ]
  },
  {
   "cell_type": "markdown",
   "id": "0062576b",
   "metadata": {},
   "source": [
    "## 2_time2.py\n",
    "\n",
    "increment()메소드 안에 assert문에서 사용되는 `repr()` 함수를 살펴본다. 기본적으로 `repr()` 함수는 `str()`함수와 동일한 역할을 하는데 차이점이라면, `repr()` 함수는 작은 따옴표로 감싼 문자열을 반환한다는 점이다.(아래 참고)"
   ]
  },
  {
   "cell_type": "code",
   "execution_count": 23,
   "id": "99e708df",
   "metadata": {},
   "outputs": [],
   "source": [
    "ex = \"example sentence\""
   ]
  },
  {
   "cell_type": "code",
   "execution_count": 24,
   "id": "8e364d18",
   "metadata": {},
   "outputs": [
    {
     "data": {
      "text/plain": [
       "'example sentence'"
      ]
     },
     "execution_count": 24,
     "metadata": {},
     "output_type": "execute_result"
    }
   ],
   "source": [
    "str(ex)"
   ]
  },
  {
   "cell_type": "code",
   "execution_count": 25,
   "id": "50c4ef64",
   "metadata": {},
   "outputs": [
    {
     "data": {
      "text/plain": [
       "\"'example sentence'\""
      ]
     },
     "execution_count": 25,
     "metadata": {},
     "output_type": "execute_result"
    }
   ],
   "source": [
    "repr(ex)"
   ]
  },
  {
   "cell_type": "code",
   "execution_count": 26,
   "id": "09e74a63",
   "metadata": {},
   "outputs": [
    {
     "name": "stdout",
     "output_type": "stream",
     "text": [
      "23:58\n",
      "0:01\n",
      "11:01 False\n",
      "13:00 True\n"
     ]
    }
   ],
   "source": [
    "class Time(object):\n",
    "    \"\"\"\n",
    "    A class to represent the times of day.\n",
    "\n",
    "    It has attributes for a minute and an hour, which are defined by the\n",
    "    appropriate methods.\n",
    "    \"\"\"\n",
    "    ### HIDDEN ATTRIBUTES\n",
    "    # Attribute _hour: the hour of the day\n",
    "    # Invariant: _hour is an int in 0..23\n",
    "    #\n",
    "    # Attribute _min: the minute of the hour\n",
    "    # Invariant: _min is an int in 0..59\n",
    "\n",
    "    # GETTERS AND SETTERS\n",
    "    def getHour(self):\n",
    "        \"\"\"\n",
    "        Returns the hour of the day.\n",
    "\n",
    "        Hour is an int in 0..23\n",
    "        \"\"\"\n",
    "        return self._hour\n",
    "\n",
    "    def setHour(self,value):\n",
    "        \"\"\"\n",
    "        Sets the hour of the day to be the given value.\n",
    "\n",
    "        Parameter value: hour of day\n",
    "        Precondition: value is an int in 0..23\n",
    "        \"\"\"\n",
    "        assert type(value) == int, repr(value)+' is not an int'\n",
    "        assert 0 <= value and value < 24, repr(value)+' is out of range 0..23'\n",
    "        self._hour = value\n",
    "\n",
    "    def getMinute(self):\n",
    "        \"\"\"\n",
    "        Returns the minute of hour.\n",
    "        \n",
    "        Minute is an int in 0..59\n",
    "        \"\"\"\n",
    "        return self._min\n",
    "\n",
    "    def setMinute(self,value):\n",
    "        \"\"\"\n",
    "        Sets the minute of hour to be the given value.\n",
    "\n",
    "        Parameter value: minute of hour\n",
    "        Precondition: value is an int in 0..59\n",
    "        \"\"\"\n",
    "        assert type(value) == int, repr(value)+' is not an int'\n",
    "        assert 0 <= value and value < 60, repr(value)+' is out of range 0..59'\n",
    "        self._min = value\n",
    "\n",
    "    # SPECIAL METHODS\n",
    "    def __init__(self, hour, min):\n",
    "        \"\"\"\n",
    "        Initializes the time hour:min.\n",
    "\n",
    "        Parameter hour: hour of day\n",
    "        Precondition: hour is an int in 0.23\n",
    "\n",
    "        Parameter min: minute of hour\n",
    "        Precondition: min is an int in 0..59\n",
    "        \"\"\"\n",
    "        # NO ASSERTS NEEDED. WHY?\n",
    "        self.setHour(hour)\n",
    "        self.setMinute(min)\n",
    "\n",
    "    def __str__(self):\n",
    "        \"\"\"\n",
    "        Returns the time as a string in [H]H:MM 24-hour format.\n",
    "        \"\"\"\n",
    "        return str(self._hour) + (':0' if self._min < 10 else ':') + str(self._min)\n",
    "\n",
    "    # BASIC METHODS\n",
    "    def increment(self, hours, mins):\n",
    "        \"\"\"\n",
    "        Moves this object <hours> hours and <mins> minutes into the future.\n",
    "\n",
    "        Parameter hours: number of hours to move\n",
    "        Precondition: hours is an int >= 0\n",
    "\n",
    "        Parameter mins: number of minutes to move\n",
    "        Precondition: mins an int in 0..59\n",
    "        \"\"\"\n",
    "        assert type(hours) == int, repr(hours)+' is not an int'\n",
    "        assert 0 <= hours, repr(hours)+' is not >= 0'\n",
    "        assert type(mins) == int, repr(mins)+' is not an int'\n",
    "        assert 0 <= mins and mins < 60, repr(mins)+' is out of range 0..59'\n",
    "\n",
    "        # It is okay to access hidden attributes INSIDE of class\n",
    "        self._hour = self._hour + hours\n",
    "        self._min  = self._min + mins\n",
    "        self._hour = self._hour + self._min // 60\n",
    "        self._min  = self._min % 60\n",
    "        self._hour = self._hour % 24\n",
    "\n",
    "    def isPM(self):\n",
    "        \"\"\"\n",
    "        Returns True if this time is noon or later; False otherwise.\n",
    "        \"\"\"\n",
    "        return self._hour >= 12\n",
    "\n",
    "\n",
    "def demo_time():\n",
    "    \"\"\"\n",
    "    Shows off time in action\n",
    "    \"\"\"\n",
    "    t = Time(23,58)\n",
    "    print(t)\n",
    "    t.increment(0,3)\n",
    "    print(t)\n",
    "    t.increment(11,0)\n",
    "    print(t, t.isPM())\n",
    "    t.increment(1, 59)\n",
    "    print(t, t.isPM())\n",
    "\n",
    "\n",
    "if __name__ == '__main__':\n",
    "    demo_time()"
   ]
  },
  {
   "cell_type": "markdown",
   "id": "55d56d78",
   "metadata": {},
   "source": [
    "# 1_point.py, 2_point.py 에 사용된 매직 메소드 정리\n",
    "\n",
    "- `__init__` : 인스턴스 생성자이다.\n",
    "- `__str__` : 입력받은 문자열 버전을 반환하는 함수이다.\n",
    "- `__repr__` : Representation의 약어로, `__str__`과 기능적으로 동일한 역할을 하지만, 사용자가 이해할 수 있는 객체의 모습을 표현한다는 점을 고려해서 작성하는것이 좋다. 단지 `__str__`과 공통점은 문자열을 반환한다는 것이다.\n",
    "- `__eq__` : 연산자 `==`에 매핑되며, 이 연산자에 매핑되는 기준을 `__eq__`에 정의해주면 된다. 이외 `__lt__`,`__le__`,`__gt__`,`__ge__`,`__ne__` 또한 동일하게 매핑되는 각 연산자의 판단하는 기준 로직을 정의해준다.\n",
    "- `__add__` : `+` 에 매핑된 매직메소드이며, 덧셈을 위해서 사용한다\n",
    "\n",
    "## 1_point.py"
   ]
  },
  {
   "cell_type": "code",
   "execution_count": 27,
   "id": "2f475a74",
   "metadata": {},
   "outputs": [],
   "source": [
    "import math\n",
    "\n",
    "\n",
    "class Point(object):\n",
    "    \"\"\"\n",
    "    A class to represent a point in 3D space\n",
    "    \n",
    "    Attribute x: The x-coordinate\n",
    "    Invariant: x is a float\n",
    "    \n",
    "    Attribute y: The y-coordinate\n",
    "    Invariant: y is a float\n",
    "    \n",
    "    Attribute z: The z-coordinate\n",
    "    Invariant: z is a float\n",
    "    \"\"\"\n",
    "\n",
    "    def __init__(self,x=0.0,y=0.0,z=0.0): \n",
    "        \"\"\"\n",
    "        Initializers a new Point3\n",
    "        \n",
    "        Parameter x: The x-coordinate\n",
    "        Precondition: x is a float\n",
    "        \n",
    "        Parameter y: The y-coordinate\n",
    "        Precondition: y is a float\n",
    "        \n",
    "        Parameter z: The z-coordinate\n",
    "        Precondition: z is a float\n",
    "        \"\"\"\n",
    "        self.x = x # x is parameter, self.x is attribute  \n",
    "        self.y = y # y is parameter, self.y is attribute  \n",
    "        self.z = z # z is parameter, self.z is attribute  \n",
    "    \n",
    "    def __str__(self):\n",
    "        \"\"\"\n",
    "        Returns this Point as a string '(x, y, z)'\n",
    "        \"\"\"\n",
    "        return '('+str(self.x)+', '+str(self.y)+', '+str(self.z)+')'\n",
    "    \n",
    "    def __repr__(self):\n",
    "        \"\"\"\n",
    "        Returns an unambiguous representation of this point\n",
    "        \"\"\"\n",
    "        return str(self.__class__)+str(self)\n",
    "    \n",
    "    def __eq__(self,other):\n",
    "        \"\"\"\n",
    "        Returns True if other is a point equal to this one.\n",
    "        \n",
    "        Parameter other: The point to compare\n",
    "        Precondition: other is a Point\n",
    "        \"\"\"\n",
    "        assert type(other) == Point, repr(other)+' is not a Point'\n",
    "        return self.x == other.x and self.y == other.y and self.z == other.z\n",
    "    \n",
    "    def __add__(self,other):\n",
    "        \"\"\"\n",
    "        Returns a new point that is the pointwise sum of self and other\n",
    "        \n",
    "        Parameter other: The point to add\n",
    "        Precondition: other is a Point\n",
    "        \"\"\"\n",
    "        assert type(other) == Point, repr(other)+' is not a Point'\n",
    "        return Point(self.x + other.x, self.y + other.y, self.z + other.z)\n",
    "    \n",
    "    def distance(self,other):\n",
    "        \"\"\"\n",
    "        Returns the distance from self to other\n",
    "        \n",
    "        Parameter other: The point to compare\n",
    "        Precondition: other is a Point\n",
    "        \"\"\"\n",
    "        assert type(other) == Point, repr(other)+' is not a Point'\n",
    "        dx = (self.x-other.x)*(self.x-other.x)\n",
    "        dy = (self.y-other.y)*(self.y-other.y)\n",
    "        dz = (self.z-other.z)*(self.z-other.z)\n",
    "        return math.sqrt(dx+dy+dz)"
   ]
  },
  {
   "cell_type": "markdown",
   "id": "e0f348b9",
   "metadata": {},
   "source": [
    "## 2_point.py"
   ]
  },
  {
   "cell_type": "code",
   "execution_count": 28,
   "id": "c60973e8",
   "metadata": {},
   "outputs": [],
   "source": [
    "\"\"\"\n",
    "A module with a simple Point3 class.\n",
    "\n",
    "This module has a simpler version of the Point class.  The primary purpose\n",
    "of this module is to show off the built-in methods __str__ and __repr___\n",
    "\n",
    "Author: Walker White (wmw2)\n",
    "Date:   October 20, 2019\n",
    "\"\"\"\n",
    "import math\n",
    "\n",
    "\n",
    "class Point3(object):\n",
    "    \"\"\"\n",
    "    A class to represent a point in 3D space\n",
    "    \n",
    "    Attribute x: The x-coordinate\n",
    "    Invariant: x is a float\n",
    "    \n",
    "    Attribute y: The y-coordinate\n",
    "    Invariant: y is a float\n",
    "    \n",
    "    Attribute z: The y-coordinate\n",
    "    Invariant: z is a float\n",
    "    \"\"\"\n",
    "    \n",
    "    # INITIALIZER\n",
    "    def __init__(self,x=0.0,y=0.0,z=0.0):\n",
    "        \"\"\"\n",
    "        Initializes a new Point3\n",
    "        \n",
    "        Parameter x: the x-coordinate (default is 0.0)\n",
    "        Precondition: x is a float (or optional)\n",
    "        \n",
    "        Parameter y: the y-coordinate (default is 0.0)\n",
    "        Precondition: y is a float (or optional)\n",
    "        \n",
    "        Parameter z: the z-coordinate (default is 0.0)\n",
    "        Precondition: z is a float (or optional)\n",
    "        \"\"\"\n",
    "        self.x = x # x is parameter, self.x is field\n",
    "        self.y = y # y is parameter, self.y is field\n",
    "        self.z = z # z is parameter, self.z is field\n",
    "    \n",
    "    def __str__(self):\n",
    "        \"\"\"\n",
    "        Returns: this Point as a string '(x, y, z)'\n",
    "        \"\"\"\n",
    "        return '('+str(self.x)+', '+str(self.y)+', '+str(self.z)+')'\n",
    "    \n",
    "    def __repr__(self):\n",
    "        \"\"\"\n",
    "        Returns: unambiguous representation of Point3\n",
    "        \"\"\"\n",
    "        return str(self.__class__)+str(self)\n",
    "    \n",
    "    def distance(self,other):\n",
    "        \"\"\"\n",
    "        Returns: Distance from self to other\n",
    "        \n",
    "        Parameter other: the point to measure to\n",
    "        Precondition: other is a Point3\n",
    "        \"\"\"\n",
    "        assert type(other) == Point3, repr(other)+' is not a Point3'\n",
    "        dx = (self.x-other.x)*(self.x-other.x)\n",
    "        dy = (self.y-other.y)*(self.y-other.y)\n",
    "        dz = (self.z-other.z)*(self.z-other.z)\n",
    "        return math.sqrt(dx+dy+dz)\n"
   ]
  }
 ],
 "metadata": {
  "kernelspec": {
   "display_name": "Python 3 (ipykernel)",
   "language": "python",
   "name": "python3"
  },
  "language_info": {
   "codemirror_mode": {
    "name": "ipython",
    "version": 3
   },
   "file_extension": ".py",
   "mimetype": "text/x-python",
   "name": "python",
   "nbconvert_exporter": "python",
   "pygments_lexer": "ipython3",
   "version": "3.9.15"
  }
 },
 "nbformat": 4,
 "nbformat_minor": 5
}
