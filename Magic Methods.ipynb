{
 "cells": [
  {
   "cell_type": "markdown",
   "id": "f4989201",
   "metadata": {},
   "source": [
    "## 매직메소드\n",
    "\n",
    "- Python내에 정의가 되어있으며, 클래스 내부에서 매직 메소드를 Override하여 사용합니다.\n",
    "- 직접적인 사용 목적이 아닌, 매핑된 사용법에 따라 호출한다는 특징을 가지고 있습니다.\n",
    "\n",
    "## 왜 필요할까?\n",
    "- 매직메소드가 필요한 이유는 클래스에 대한 세부적인 정의를 하는데에 있습니다. 여러가지 매직 메소드들이 있고, 클래스가 기본적으로 `Object`클래스를 상속받아 만들어지기에, `Object`클래스의 매직 메소드들을 기반으로 저희는 파이썬을 쓰고 있는 것입니다.\n",
    "\n",
    "- 또한 파이썬의 모든것은 객체라고 보아도 무방합니다. 저희가 사용하는 문자열 또한 `str`이라는 클래스로 정의가 되기 마련입니다.\n",
    "\n",
    "## 어디에 사용되고 있을까?\n",
    "\n",
    "- 모든 내장 클래스들은 매직 메소드를 가지고 있습니다. `dir()`을 사용해서 해당 클래스 혹은 모듈이 가지고 있는 객체의 속성, 메소드들을 볼 수 있습니다.\n",
    "\n",
    "- 예를 들어 `sys`모듈을 살펴보겠습니다. 아래 Interactive Shell을 살펴보면 저희가 이 파일에서 볼 매직메소드들 뿐만 아니라, 메소드들, 속성들까지 있는것을 볼 수 있습니다"
   ]
  },
  {
   "cell_type": "code",
   "execution_count": 1,
   "id": "9381c0ee",
   "metadata": {},
   "outputs": [
    {
     "data": {
      "text/plain": [
       "['__breakpointhook__',\n",
       " '__displayhook__',\n",
       " '__doc__',\n",
       " '__excepthook__',\n",
       " '__interactivehook__',\n",
       " '__loader__',\n",
       " '__name__',\n",
       " '__package__',\n",
       " '__spec__',\n",
       " '__stderr__',\n",
       " '__stdin__',\n",
       " '__stdout__',\n",
       " '__unraisablehook__',\n",
       " '_base_executable',\n",
       " '_clear_type_cache',\n",
       " '_current_frames',\n",
       " '_debugmallocstats',\n",
       " '_framework',\n",
       " '_getframe',\n",
       " '_git',\n",
       " '_home',\n",
       " '_xoptions',\n",
       " 'abiflags',\n",
       " 'addaudithook',\n",
       " 'api_version',\n",
       " 'argv',\n",
       " 'audit',\n",
       " 'base_exec_prefix',\n",
       " 'base_prefix',\n",
       " 'breakpointhook',\n",
       " 'builtin_module_names',\n",
       " 'byteorder',\n",
       " 'call_tracing',\n",
       " 'copyright',\n",
       " 'displayhook',\n",
       " 'dont_write_bytecode',\n",
       " 'exc_info',\n",
       " 'excepthook',\n",
       " 'exec_prefix',\n",
       " 'executable',\n",
       " 'exit',\n",
       " 'flags',\n",
       " 'float_info',\n",
       " 'float_repr_style',\n",
       " 'get_asyncgen_hooks',\n",
       " 'get_coroutine_origin_tracking_depth',\n",
       " 'getallocatedblocks',\n",
       " 'getdefaultencoding',\n",
       " 'getdlopenflags',\n",
       " 'getfilesystemencodeerrors',\n",
       " 'getfilesystemencoding',\n",
       " 'getprofile',\n",
       " 'getrecursionlimit',\n",
       " 'getrefcount',\n",
       " 'getsizeof',\n",
       " 'getswitchinterval',\n",
       " 'gettrace',\n",
       " 'hash_info',\n",
       " 'hexversion',\n",
       " 'implementation',\n",
       " 'int_info',\n",
       " 'intern',\n",
       " 'is_finalizing',\n",
       " 'maxsize',\n",
       " 'maxunicode',\n",
       " 'meta_path',\n",
       " 'modules',\n",
       " 'path',\n",
       " 'path_hooks',\n",
       " 'path_importer_cache',\n",
       " 'platform',\n",
       " 'platlibdir',\n",
       " 'prefix',\n",
       " 'ps1',\n",
       " 'ps2',\n",
       " 'ps3',\n",
       " 'pycache_prefix',\n",
       " 'set_asyncgen_hooks',\n",
       " 'set_coroutine_origin_tracking_depth',\n",
       " 'setdlopenflags',\n",
       " 'setprofile',\n",
       " 'setrecursionlimit',\n",
       " 'setswitchinterval',\n",
       " 'settrace',\n",
       " 'stderr',\n",
       " 'stdin',\n",
       " 'stdout',\n",
       " 'thread_info',\n",
       " 'unraisablehook',\n",
       " 'version',\n",
       " 'version_info',\n",
       " 'warnoptions']"
      ]
     },
     "execution_count": 1,
     "metadata": {},
     "output_type": "execute_result"
    }
   ],
   "source": [
    "import sys\n",
    "\n",
    "dir(sys)"
   ]
  },
  {
   "cell_type": "markdown",
   "id": "dd75555a",
   "metadata": {},
   "source": [
    "- 다시 매직메소드로 넘어와 봅니다. 예를들어 Python에서 문자열, 숫자, 리스트타입을 한번에 문자열로 출력할 수 있습니다. 아래와 같이 말이죠. 이를 가능하게 하는것 또한 매직 메소드에 의해서입니다.\n",
    "\n",
    "- `dir()`내장함수를 이용해 봅니다. `dir()`내장함수는 해당 모듈, 클래스등에 내장된 속성, 메소드, 매직메소드들을 `Mutable Sequence`로 반환해주는 함수입니다`dir()` 함수를 이용해서 `int`,`str`,`list`의 속성들을 출력해봅니다.\n",
    "\n",
    "```python\n",
    "a = 10\n",
    "b = \"example str\"\n",
    "c = ['a','b','c']\n",
    "\n",
    "print(a,b,c)\n",
    "```"
   ]
  },
  {
   "cell_type": "code",
   "execution_count": 2,
   "id": "cb461ab2",
   "metadata": {},
   "outputs": [
    {
     "name": "stdout",
     "output_type": "stream",
     "text": [
      "10 example str ['a', 'b', 'c']\n"
     ]
    }
   ],
   "source": [
    "a = 10\n",
    "b = \"example str\"\n",
    "c = ['a','b','c']\n",
    "\n",
    "print(a,b,c)"
   ]
  },
  {
   "cell_type": "code",
   "execution_count": 3,
   "id": "a2f467e3",
   "metadata": {},
   "outputs": [
    {
     "data": {
      "text/plain": [
       "['__abs__',\n",
       " '__add__',\n",
       " '__and__',\n",
       " '__bool__',\n",
       " '__ceil__',\n",
       " '__class__',\n",
       " '__delattr__',\n",
       " '__dir__',\n",
       " '__divmod__',\n",
       " '__doc__',\n",
       " '__eq__',\n",
       " '__float__',\n",
       " '__floor__',\n",
       " '__floordiv__',\n",
       " '__format__',\n",
       " '__ge__',\n",
       " '__getattribute__',\n",
       " '__getnewargs__',\n",
       " '__gt__',\n",
       " '__hash__',\n",
       " '__index__',\n",
       " '__init__',\n",
       " '__init_subclass__',\n",
       " '__int__',\n",
       " '__invert__',\n",
       " '__le__',\n",
       " '__lshift__',\n",
       " '__lt__',\n",
       " '__mod__',\n",
       " '__mul__',\n",
       " '__ne__',\n",
       " '__neg__',\n",
       " '__new__',\n",
       " '__or__',\n",
       " '__pos__',\n",
       " '__pow__',\n",
       " '__radd__',\n",
       " '__rand__',\n",
       " '__rdivmod__',\n",
       " '__reduce__',\n",
       " '__reduce_ex__',\n",
       " '__repr__',\n",
       " '__rfloordiv__',\n",
       " '__rlshift__',\n",
       " '__rmod__',\n",
       " '__rmul__',\n",
       " '__ror__',\n",
       " '__round__',\n",
       " '__rpow__',\n",
       " '__rrshift__',\n",
       " '__rshift__',\n",
       " '__rsub__',\n",
       " '__rtruediv__',\n",
       " '__rxor__',\n",
       " '__setattr__',\n",
       " '__sizeof__',\n",
       " '__str__',\n",
       " '__sub__',\n",
       " '__subclasshook__',\n",
       " '__truediv__',\n",
       " '__trunc__',\n",
       " '__xor__']"
      ]
     },
     "execution_count": 3,
     "metadata": {},
     "output_type": "execute_result"
    }
   ],
   "source": [
    "filter_magic_method = lambda x: x.startswith('__')\n",
    "\n",
    "list(filter(filter_magic_method,dir(int)))"
   ]
  },
  {
   "cell_type": "code",
   "execution_count": 4,
   "id": "8e88193c",
   "metadata": {},
   "outputs": [
    {
     "data": {
      "text/plain": [
       "['__add__',\n",
       " '__class__',\n",
       " '__contains__',\n",
       " '__delattr__',\n",
       " '__dir__',\n",
       " '__doc__',\n",
       " '__eq__',\n",
       " '__format__',\n",
       " '__ge__',\n",
       " '__getattribute__',\n",
       " '__getitem__',\n",
       " '__getnewargs__',\n",
       " '__gt__',\n",
       " '__hash__',\n",
       " '__init__',\n",
       " '__init_subclass__',\n",
       " '__iter__',\n",
       " '__le__',\n",
       " '__len__',\n",
       " '__lt__',\n",
       " '__mod__',\n",
       " '__mul__',\n",
       " '__ne__',\n",
       " '__new__',\n",
       " '__reduce__',\n",
       " '__reduce_ex__',\n",
       " '__repr__',\n",
       " '__rmod__',\n",
       " '__rmul__',\n",
       " '__setattr__',\n",
       " '__sizeof__',\n",
       " '__str__',\n",
       " '__subclasshook__']"
      ]
     },
     "execution_count": 4,
     "metadata": {},
     "output_type": "execute_result"
    }
   ],
   "source": [
    "list(filter(filter_magic_method ,dir(str)))"
   ]
  },
  {
   "cell_type": "code",
   "execution_count": 5,
   "id": "ea54e06a",
   "metadata": {},
   "outputs": [
    {
     "data": {
      "text/plain": [
       "['__add__',\n",
       " '__class__',\n",
       " '__class_getitem__',\n",
       " '__contains__',\n",
       " '__delattr__',\n",
       " '__delitem__',\n",
       " '__dir__',\n",
       " '__doc__',\n",
       " '__eq__',\n",
       " '__format__',\n",
       " '__ge__',\n",
       " '__getattribute__',\n",
       " '__getitem__',\n",
       " '__gt__',\n",
       " '__hash__',\n",
       " '__iadd__',\n",
       " '__imul__',\n",
       " '__init__',\n",
       " '__init_subclass__',\n",
       " '__iter__',\n",
       " '__le__',\n",
       " '__len__',\n",
       " '__lt__',\n",
       " '__mul__',\n",
       " '__ne__',\n",
       " '__new__',\n",
       " '__reduce__',\n",
       " '__reduce_ex__',\n",
       " '__repr__',\n",
       " '__reversed__',\n",
       " '__rmul__',\n",
       " '__setattr__',\n",
       " '__setitem__',\n",
       " '__sizeof__',\n",
       " '__str__',\n",
       " '__subclasshook__']"
      ]
     },
     "execution_count": 5,
     "metadata": {},
     "output_type": "execute_result"
    }
   ],
   "source": [
    "list(filter(filter_magic_method ,dir(list)))"
   ]
  },
  {
   "cell_type": "markdown",
   "id": "a48d6a1d",
   "metadata": {},
   "source": [
    "- 이번에는 `help()`메소드를 사용해서 매직메소드를 살펴봅니다. `help()`메소드는 함수(메소드) 혹은 클래스의 `Doc-String`을 출력해주는 함수입니다. `int`,`str`,`list`함수 모두 `__str__`매직메소드에 대한 Doc-string을 출력해봅니다"
   ]
  },
  {
   "cell_type": "code",
   "execution_count": 6,
   "id": "f5912f0c",
   "metadata": {},
   "outputs": [
    {
     "name": "stdout",
     "output_type": "stream",
     "text": [
      "Help on wrapper_descriptor:\n",
      "\n",
      "__str__(self, /)\n",
      "    Return str(self).\n",
      "\n"
     ]
    }
   ],
   "source": [
    "help(int.__str__)"
   ]
  },
  {
   "cell_type": "code",
   "execution_count": 7,
   "id": "ab61738f",
   "metadata": {},
   "outputs": [
    {
     "name": "stdout",
     "output_type": "stream",
     "text": [
      "Help on wrapper_descriptor:\n",
      "\n",
      "__str__(self, /)\n",
      "    Return str(self).\n",
      "\n"
     ]
    }
   ],
   "source": [
    "help(str.__str__)"
   ]
  },
  {
   "cell_type": "code",
   "execution_count": 8,
   "id": "6fe44d93",
   "metadata": {},
   "outputs": [
    {
     "name": "stdout",
     "output_type": "stream",
     "text": [
      "Help on wrapper_descriptor:\n",
      "\n",
      "__str__(self, /)\n",
      "    Return str(self).\n",
      "\n"
     ]
    }
   ],
   "source": [
    "help(list.__str__)"
   ]
  },
  {
   "cell_type": "markdown",
   "id": "a3fcff60",
   "metadata": {},
   "source": [
    "- 모두 동일하게 `Return str(self)`라고 적혀저 있습니다. 이는, 객체 자신의 값을 `str`타입으로 형변환을 시키는 의미를 가지고 있으며, `print(a,b,c)`를 출력할때 a,c모두 `__str__` 매직메소드에 의해 객체의 값이 string으로 변환되어 문자열로 출력됨을 알 수 있습니다\n",
    "\n",
    "- 조금 더 감을 익히기 위해 클래스를 정의하고, `__str__`을 오버라이드 하여 보겠습니다. Name이라는 클래스는 초기값으로 이름을 받고, 객체에 대한 출력을 할때 \"My name is {self}\"를 반환하는것을 볼 수 있습니다."
   ]
  },
  {
   "cell_type": "code",
   "execution_count": 9,
   "id": "68365867",
   "metadata": {},
   "outputs": [
    {
     "name": "stdout",
     "output_type": "stream",
     "text": [
      "My name is Hoplin  and my age is  24\n",
      "\n",
      "Help on function __str__ in module __main__:\n",
      "\n",
      "__str__(self)\n",
      "    __str__\n",
      "    \n",
      "    Return introduction message\n",
      "\n"
     ]
    }
   ],
   "source": [
    "class Name(object):\n",
    "    def __init__(self,name):\n",
    "        self.name = name\n",
    "    \n",
    "    def __str__(self):\n",
    "        '''\n",
    "        __str__\n",
    "        \n",
    "        Return introduction message\n",
    "        '''\n",
    "        return f\"My name is {self.name}\"\n",
    "\n",
    "num = 24\n",
    "name = Name(\"Hoplin\")\n",
    "print(name,\" and my age is \",num)\n",
    "print()\n",
    "help(Name.__str__)"
   ]
  },
  {
   "cell_type": "markdown",
   "id": "5d217493",
   "metadata": {},
   "source": [
    "## 다양한 종류의 매직메소드 살펴보기\n",
    "\n",
    "- 위에서 `__str__`매직메소드를 간단하게 살펴보았습니다. 이제 더 다양한 매직 메소드들에 대해 살펴보겠습니다\n",
    "\n",
    "### `__new__` & `__init__` (중요)\n",
    "\n",
    "- `__new__`\n",
    "    \n",
    "    - 인스턴스를 초기화할때 가장 최초로 실행되는 매직메소드이며 **새로운 인스턴스 Object를 반환**한다.\n",
    "    - Object에 메모리를 할당하는것은 `__new__`메소드에서 이루어진다.\n",
    "    \n",
    "    - 인수로 `클래스 자신`을 넘긴다.\n",
    "\n",
    "- `__init__`\n",
    "    \n",
    "    - `__new__`에 의해서 인스턴스가 초기화된 후 호출되는 메소드이다. 주로 인스턴스 초기값을 설정하기 위한 매직메소드이다.\n",
    "    \n",
    "### `__new__`의 활용\n",
    "\n",
    "- `__init__`은 많이 사용해 봤지만, `__new__`는 많이 사용해본적이 없을것이다.\n",
    "\n",
    "- 가장 대표적인 예시로, 인스턴스 개수의 제한을 예로 들 수 있다\n",
    "\n",
    "- `__new__`를 override할때 주의할 점은 `super().__new__(cls)`를 호출해 객체를 반환시켜주어야 한다는 것이다. 모든 클래스는 `object`클래스를 상속받는데, 우리가 `__new__`를 정의하지 않아도 새로운 인스턴스를 반환받을 수 있는 이유는 object클래스의 `__new__`를 호출하기 때문이다"
   ]
  },
  {
   "cell_type": "code",
   "execution_count": 10,
   "id": "1404a537",
   "metadata": {},
   "outputs": [],
   "source": [
    "class ExampleObject(object):\n",
    "    #클래스변수\n",
    "    MAXIMUM_INSTANCE = 3\n",
    "    INSTANCE_COUNTER = 0\n",
    "    \n",
    "    #예외클래스\n",
    "    class LimitedInstanceGenerateException(Exception):\n",
    "        def __init__(self):\n",
    "            super().__init__(f\"Instance count limited : Maximum {ExampleObject.MAXIMUM_INSTANCE}\")\n",
    "    \n",
    "    def __new__(cls,*args,**kwargs):\n",
    "        if(cls.INSTANCE_COUNTER >= cls.MAXIMUM_INSTANCE):\n",
    "            raise ExampleObject.LimitedInstanceGenerateException()\n",
    "        cls.INSTANCE_COUNTER += 1\n",
    "        return super().__new__(cls)\n",
    "\n",
    "i1 = ExampleObject()\n",
    "i2 = ExampleObject()\n",
    "i3 = ExampleObject()"
   ]
  },
  {
   "cell_type": "code",
   "execution_count": 11,
   "id": "558f7db7",
   "metadata": {},
   "outputs": [
    {
     "ename": "LimitedInstanceGenerateException",
     "evalue": "Instance count limited : Maximum 3",
     "output_type": "error",
     "traceback": [
      "\u001b[0;31m---------------------------------------------------------------------------\u001b[0m",
      "\u001b[0;31mLimitedInstanceGenerateException\u001b[0m          Traceback (most recent call last)",
      "Input \u001b[0;32mIn [11]\u001b[0m, in \u001b[0;36m<module>\u001b[0;34m\u001b[0m\n\u001b[0;32m----> 1\u001b[0m i4 \u001b[38;5;241m=\u001b[39m \u001b[43mExampleObject\u001b[49m\u001b[43m(\u001b[49m\u001b[43m)\u001b[49m\n",
      "Input \u001b[0;32mIn [10]\u001b[0m, in \u001b[0;36mExampleObject.__new__\u001b[0;34m(cls, *args, **kwargs)\u001b[0m\n\u001b[1;32m      9\u001b[0m \u001b[38;5;28;01mdef\u001b[39;00m \u001b[38;5;21m__new__\u001b[39m(\u001b[38;5;28mcls\u001b[39m,\u001b[38;5;241m*\u001b[39margs,\u001b[38;5;241m*\u001b[39m\u001b[38;5;241m*\u001b[39mkwargs):\n\u001b[1;32m     10\u001b[0m     \u001b[38;5;28;01mif\u001b[39;00m(\u001b[38;5;28mcls\u001b[39m\u001b[38;5;241m.\u001b[39mINSTANCE_COUNTER \u001b[38;5;241m>\u001b[39m\u001b[38;5;241m=\u001b[39m \u001b[38;5;28mcls\u001b[39m\u001b[38;5;241m.\u001b[39mMAXIMUM_INSTANCE):\n\u001b[0;32m---> 11\u001b[0m         \u001b[38;5;28;01mraise\u001b[39;00m ExampleObject\u001b[38;5;241m.\u001b[39mLimitedInstanceGenerateException()\n\u001b[1;32m     12\u001b[0m     \u001b[38;5;28mcls\u001b[39m\u001b[38;5;241m.\u001b[39mINSTANCE_COUNTER \u001b[38;5;241m+\u001b[39m\u001b[38;5;241m=\u001b[39m \u001b[38;5;241m1\u001b[39m\n\u001b[1;32m     13\u001b[0m     \u001b[38;5;28;01mreturn\u001b[39;00m \u001b[38;5;28msuper\u001b[39m()\u001b[38;5;241m.\u001b[39m\u001b[38;5;21m__new__\u001b[39m(\u001b[38;5;28mcls\u001b[39m)\n",
      "\u001b[0;31mLimitedInstanceGenerateException\u001b[0m: Instance count limited : Maximum 3"
     ]
    }
   ],
   "source": [
    "i4 = ExampleObject()"
   ]
  },
  {
   "cell_type": "markdown",
   "id": "a57502ed",
   "metadata": {},
   "source": [
    "### `__call__`\n",
    "\n",
    "- `__call__`이란 인스턴스를 **호출**을 한 경우에 실행되는 메소드입니다.\n",
    "- 호출이란 `.` 접근연산자를 통한 접근이 아닌 함수와 같이 `인스턴스()`형태로 호출하는것을 의미합니다."
   ]
  },
  {
   "cell_type": "markdown",
   "id": "90bb3627",
   "metadata": {},
   "source": [
    "### `__add__`\n",
    "\n",
    "- '+'에 매핑된 매직메소드입니다.\n",
    "- 덧셈을 위해 사용합니다\n",
    "<br>\n",
    "<br>\n",
    "- `__call__`과 `__add__`를 응용하여 예제를 만들어 봅니다.\n",
    "- `vars()` 내장함수를 사용하면, 인스턴스 내 지역변수를 딕셔너리 형태로 반환받을 수 있다"
   ]
  },
  {
   "cell_type": "code",
   "execution_count": 12,
   "id": "aa04b3aa",
   "metadata": {},
   "outputs": [
    {
     "name": "stdout",
     "output_type": "stream",
     "text": [
      "850\n",
      "1300\n",
      "{'name': 'thinkpad', 'weight': 800}\n"
     ]
    }
   ],
   "source": [
    "class Gadget(object):\n",
    "    def __init__(self,name:str,weight:int) -> None:\n",
    "        self.name = name\n",
    "        self.weight = weight\n",
    "\n",
    "    def __add__(self, other):\n",
    "        return self.weight + other\n",
    "\n",
    "    def __call__(self):\n",
    "        return vars(self)\n",
    "\n",
    "    def printVars(self):\n",
    "        print(vars(self))\n",
    "\n",
    "\n",
    "thinkpad = Gadget('thinkpad',800)\n",
    "ipad = Gadget('ipad',500)\n",
    "\n",
    "print(thinkpad + 50)\n",
    "print(thinkpad + ipad().get('weight'))\n",
    "\n",
    "thinkpad.printVars()"
   ]
  },
  {
   "cell_type": "markdown",
   "id": "11aab3f0",
   "metadata": {},
   "source": [
    "### `__doc__`\n",
    "\n",
    "- Doc-String을 출력하는 메소드이다.\n",
    "\n",
    "### About Doc-String\n",
    "\n",
    "- `Doc-String` 은 함수, 클래스, 메소드의 목적이나, 설명을 기술하기 위한 가장 표준적인 방법이다. 예시 코드 작성해보면 아래와 같이 작성할 수 있다.\n",
    "- `Doc-String` 을 작성하기 위해서는 Python문법중 `Multiline-String` 을 사용해 주어야 한다(`”””` 혹은 `'''` )\n",
    "- `Doc-String`에는 parameter에 대한 정보, parameter타입, 어떤 예외가 발생할 수 있는지, 반환값에 대한 정보와 반환 값의 타입등의 정보들이 적혀있다.\n",
    "- `Doc-String`에 관한 Convention은 [PEP-257](https://peps.python.org/pep-0257/)에 명시되어있다.\n",
    "- `Doc-String`을 출력을 하기 위해서는 아래 두가지 방법이 존재한다\n",
    "    - help() 내장함수 사용 : help안에 함수 혹은 클래스 객체 자체를 넘겨주어야 한다\n",
    "    - .\\_\\_doc\\_\\_ [매직메소드](https://wikidocs.net/83755) 사용"
   ]
  },
  {
   "cell_type": "code",
   "execution_count": 13,
   "id": "53e50478",
   "metadata": {},
   "outputs": [],
   "source": [
    "def meow(n:int) -> None:\n",
    "    \"\"\"\n",
    "    Meow n times\n",
    "\n",
    "    :param n: Number of times to meow\n",
    "    :type n: int\n",
    "    :raise TypeError: If n is not an int\n",
    "    :return: A string of n meows, one per line\n",
    "    :rtype: str\n",
    "    \"\"\"\n",
    "    return \"meow\\n\" * n"
   ]
  },
  {
   "cell_type": "code",
   "execution_count": 14,
   "id": "e1186135",
   "metadata": {},
   "outputs": [
    {
     "name": "stdout",
     "output_type": "stream",
     "text": [
      "Help on function meow in module __main__:\n",
      "\n",
      "meow(n: int) -> None\n",
      "    Meow n times\n",
      "    \n",
      "    :param n: Number of times to meow\n",
      "    :type n: int\n",
      "    :raise TypeError: If n is not an int\n",
      "    :return: A string of n meows, one per line\n",
      "    :rtype: str\n",
      "\n"
     ]
    }
   ],
   "source": [
    "help(meow)"
   ]
  },
  {
   "cell_type": "code",
   "execution_count": 15,
   "id": "d2638cab",
   "metadata": {},
   "outputs": [
    {
     "data": {
      "text/plain": [
       "'\\n    Meow n times\\n\\n    :param n: Number of times to meow\\n    :type n: int\\n    :raise TypeError: If n is not an int\\n    :return: A string of n meows, one per line\\n    :rtype: str\\n    '"
      ]
     },
     "execution_count": 15,
     "metadata": {},
     "output_type": "execute_result"
    }
   ],
   "source": [
    "meow.__doc__"
   ]
  },
  {
   "cell_type": "markdown",
   "id": "a2056b02",
   "metadata": {},
   "source": [
    "### `__len__`\n",
    "\n",
    "- 객체의 길이를 반환한다. len()함수에 매핑된다. 인스턴스에 대해 len()함수를 호출을 하면 len함수는 인스턴스의 `__len__`을 호출하게 된다.\n",
    "- len함수의 document를 보면, 주어진 객체 컨테이너 내부의 원소 개수를 반환한다고 되어있다"
   ]
  },
  {
   "cell_type": "code",
   "execution_count": 16,
   "id": "f7b44a66",
   "metadata": {},
   "outputs": [
    {
     "name": "stdout",
     "output_type": "stream",
     "text": [
      "Help on wrapper_descriptor:\n",
      "\n",
      "__len__(self, /)\n",
      "    Return len(self).\n",
      "\n"
     ]
    }
   ],
   "source": [
    "help(list.__len__)"
   ]
  },
  {
   "cell_type": "code",
   "execution_count": 17,
   "id": "87fd1071",
   "metadata": {},
   "outputs": [
    {
     "name": "stdout",
     "output_type": "stream",
     "text": [
      "Help on built-in function len in module builtins:\n",
      "\n",
      "len(obj, /)\n",
      "    Return the number of items in a container.\n",
      "\n"
     ]
    }
   ],
   "source": [
    "help(len)"
   ]
  },
  {
   "cell_type": "code",
   "execution_count": 18,
   "id": "97736ead",
   "metadata": {},
   "outputs": [
    {
     "name": "stdout",
     "output_type": "stream",
     "text": [
      "10\n"
     ]
    }
   ],
   "source": [
    "class lengthExample(object):\n",
    "    def __init__(self):\n",
    "        self.arr = list()\n",
    "\n",
    "    def __len__(self):\n",
    "        return len(self.arr)\n",
    "\n",
    "    def append(self,x):\n",
    "        self.arr.append(x)\n",
    "\n",
    "a = lengthExample()\n",
    "for i in range(10): a.append(i)\n",
    "print(len(a))"
   ]
  },
  {
   "cell_type": "markdown",
   "id": "3237d2e5",
   "metadata": {},
   "source": [
    "### `__le__` & `__lt__`\n",
    "\n",
    "- `__le__`\n",
    "    \n",
    "    - lower and equal이라는 의미를 가지며, `<=`연산자에 매핑된다.\n",
    "\n",
    "- `__lt__`\n",
    "    \n",
    "    - lower than이라는 의미를 가지며 `<`연산자에 매핑된다.\n",
    "    \n",
    "### `__ge__` & `__gt__`\n",
    "\n",
    "- `__ge__`\n",
    "\n",
    "    - greater and equal이라는 의미를 가지며 `>=` 연산자에 매핑된다\n",
    "    \n",
    "- `__gt__`\n",
    "\n",
    "    - greater than이라는 의미를 가지며 `>`연산자에 매핑된다 \n",
    "\n",
    "### `__sub__`\n",
    "\n",
    "- `-`에 매핑되는 연산자이다."
   ]
  },
  {
   "cell_type": "code",
   "execution_count": 19,
   "id": "0d7bb440",
   "metadata": {},
   "outputs": [
    {
     "name": "stdout",
     "output_type": "stream",
     "text": [
      "Called : __ge__\n",
      "True\n",
      "Called : __gt__\n",
      "True\n",
      "Called : __sub__\n",
      "7\n",
      "Called : __le__\n",
      "False\n",
      "Called : __lt__\n",
      "True\n"
     ]
    }
   ],
   "source": [
    "class ExampleObject2(object):\n",
    "\n",
    "    def __init__(self,value):\n",
    "        self.value = value\n",
    "\n",
    "    def __sub__(self, other):\n",
    "        print(f\"Called : __sub__\")\n",
    "        return self.value - other\n",
    "\n",
    "    def __gt__(self, other):\n",
    "        print(f\"Called : __gt__\")\n",
    "        return self.value >= other\n",
    "\n",
    "    def __ge__(self, other):\n",
    "        print(f\"Called : __ge__\")\n",
    "        return self.value > other\n",
    "\n",
    "    def __le__(self, other):\n",
    "        print(f\"Called : __le__\")\n",
    "        return self.value <= other\n",
    "\n",
    "    def __lt__(self, other):\n",
    "        print(f\"Called : __lt__\")\n",
    "        return self.value < other\n",
    "\n",
    "value = ExampleObject2(10)\n",
    "print(value >= 5)\n",
    "print(value > 9)\n",
    "print(value - 3)\n",
    "print(value <= 9)\n",
    "print(value < 30)"
   ]
  }
 ],
 "metadata": {
  "kernelspec": {
   "display_name": "Python 3 (ipykernel)",
   "language": "python",
   "name": "python3"
  },
  "language_info": {
   "codemirror_mode": {
    "name": "ipython",
    "version": 3
   },
   "file_extension": ".py",
   "mimetype": "text/x-python",
   "name": "python",
   "nbconvert_exporter": "python",
   "pygments_lexer": "ipython3",
   "version": "3.9.13"
  }
 },
 "nbformat": 4,
 "nbformat_minor": 5
}
